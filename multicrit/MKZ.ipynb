{
  "nbformat": 4,
  "nbformat_minor": 0,
  "metadata": {
    "colab": {
      "name": "MKZ.ipynb",
      "provenance": []
    },
    "kernelspec": {
      "name": "python3",
      "display_name": "Python 3"
    },
    "language_info": {
      "name": "python"
    }
  },
  "cells": [
    {
      "cell_type": "code",
      "metadata": {
        "colab": {
          "base_uri": "https://localhost:8080/"
        },
        "id": "1us1rT7zvtFV",
        "outputId": "27726e2f-3c49-4ad5-d205-a6c836530fd8"
      },
      "source": [
        "!pip install pulp"
      ],
      "execution_count": 3,
      "outputs": [
        {
          "output_type": "stream",
          "name": "stdout",
          "text": [
            "Collecting pulp\n",
            "  Downloading PuLP-2.5.1-py3-none-any.whl (41.2 MB)\n",
            "\u001b[K     |████████████████████████████████| 41.2 MB 78 kB/s \n",
            "\u001b[?25hInstalling collected packages: pulp\n",
            "Successfully installed pulp-2.5.1\n"
          ]
        }
      ]
    },
    {
      "cell_type": "code",
      "metadata": {
        "id": "RjT3AETJvdR5"
      },
      "source": [
        "import numpy as np\n",
        "import pandas as pd\n",
        "import pulp"
      ],
      "execution_count": 4,
      "outputs": []
    },
    {
      "cell_type": "code",
      "metadata": {
        "id": "r_GcuTn-ynsX"
      },
      "source": [
        "c_prib = [3, 1, 3, 2, 3]\n",
        "c_val_ob = [10, 9, 12, 14, 9]\n",
        "c_sebes = [7, 8, 9, 12, 6]\n",
        "c_ur_nag = [7, 10, 17, 10, 12]"
      ],
      "execution_count": 153,
      "outputs": []
    },
    {
      "cell_type": "code",
      "metadata": {
        "id": "m2ewqquGztGJ"
      },
      "source": [
        "cons_res = [[4,5,3,2,3],\n",
        "            [2,4,4,4,2],\n",
        "            [3,1,0,1,1]]\n",
        "b_res = [3000,4500,1500]\n",
        "\n",
        "cons_fond = [[2,3,5,4,5],\n",
        "             [1,2,6,3,2],\n",
        "             [3,4,4,1,4],\n",
        "             [1,1,2,2,1]]\n",
        "b_fond = [5000,4000,4000,2000]\n",
        "\n",
        "ust = 0.15\n"
      ],
      "execution_count": 154,
      "outputs": []
    },
    {
      "cell_type": "code",
      "metadata": {
        "id": "0Cv8EUs-voWA"
      },
      "source": [
        "variables = []\n",
        "for k in range(1, 6):\n",
        "    variables.append(pulp.LpVariable(f'x{k}', 100, 500, pulp.LpInteger))"
      ],
      "execution_count": 155,
      "outputs": []
    },
    {
      "cell_type": "code",
      "metadata": {
        "id": "t5m9pPubMzFU"
      },
      "source": [
        "LP1 = pulp.LpProblem('Прибыль', pulp.LpMaximize)\n",
        "LP1 += pulp.lpSum([coef*var for coef, var in zip(c_prib, variables)]), \"Прибыль\"\n",
        "\n",
        "for cons, b in zip(cons_res, b_res):\n",
        "    LP1+= pulp.lpSum([coef*var for coef, var in zip(cons, variables)]) <= b\n",
        "\n",
        "for cons, b in zip(cons_fond, b_fond):\n",
        "    LP1+= pulp.lpSum([coef*var for coef, var in zip(cons, variables)]) <= b\n",
        "\n",
        "\n",
        "LP1 += pulp.lpSum([coef*var for coef, var in zip(c_ur_nag, variables)]) <= 15000\n",
        "LP1 += pulp.lpSum([coef*var for coef, var in zip(c_val_ob, variables)]) >= 12000\n",
        "LP1 += pulp.lpSum([coef*var for coef, var in zip(c_sebes, variables)]) <= 10000"
      ],
      "execution_count": 162,
      "outputs": []
    },
    {
      "cell_type": "code",
      "metadata": {
        "colab": {
          "base_uri": "https://localhost:8080/"
        },
        "id": "5SzuSff7NLi7",
        "outputId": "ae43510f-d2d5-4b22-b317-37748beb5d27"
      },
      "source": [
        "LP1"
      ],
      "execution_count": 163,
      "outputs": [
        {
          "output_type": "execute_result",
          "data": {
            "text/plain": [
              "Прибыль:\n",
              "MAXIMIZE\n",
              "3*x1 + 1*x2 + 3*x3 + 2*x4 + 3*x5 + 0\n",
              "SUBJECT TO\n",
              "_C1: 4 x1 + 5 x2 + 3 x3 + 2 x4 + 3 x5 <= 3000\n",
              "\n",
              "_C2: 2 x1 + 4 x2 + 4 x3 + 4 x4 + 2 x5 <= 4500\n",
              "\n",
              "_C3: 3 x1 + x2 + x4 + x5 <= 1500\n",
              "\n",
              "_C4: 2 x1 + 3 x2 + 5 x3 + 4 x4 + 5 x5 <= 5000\n",
              "\n",
              "_C5: x1 + 2 x2 + 6 x3 + 3 x4 + 2 x5 <= 4000\n",
              "\n",
              "_C6: 3 x1 + 4 x2 + 4 x3 + x4 + 4 x5 <= 4000\n",
              "\n",
              "_C7: x1 + x2 + 2 x3 + 2 x4 + x5 <= 2000\n",
              "\n",
              "_C8: 7 x1 + 10 x2 + 17 x3 + 10 x4 + 12 x5 <= 15000\n",
              "\n",
              "_C9: 10 x1 + 9 x2 + 12 x3 + 14 x4 + 9 x5 >= 12000\n",
              "\n",
              "_C10: 7 x1 + 8 x2 + 9 x3 + 12 x4 + 6 x5 <= 10000\n",
              "\n",
              "VARIABLES\n",
              "100 <= x1 <= 500 Integer\n",
              "100 <= x2 <= 500 Integer\n",
              "100 <= x3 <= 500 Integer\n",
              "100 <= x4 <= 500 Integer\n",
              "100 <= x5 <= 500 Integer"
            ]
          },
          "metadata": {},
          "execution_count": 163
        }
      ]
    },
    {
      "cell_type": "code",
      "metadata": {
        "colab": {
          "base_uri": "https://localhost:8080/"
        },
        "id": "k9oTWZe9NRdh",
        "outputId": "9c70808a-6326-4af6-eac9-5e183addffda"
      },
      "source": [
        "s1 = LP1.solve()\n",
        "V = np.array([])\n",
        "for v in LP1.variables():\n",
        "    V = np.append(V, v.varValue)\n",
        "print('x = ', V)\n",
        "prib_opt = sum([a*b for a,b in zip(c_prib, V)])\n",
        "\n",
        "print('Прибыль:',sum([a*b for a,b in zip(c_prib, V)]))\n",
        "print('Валовый объем', sum([a*b for a,b in zip(c_val_ob, V)]))\n",
        "print('Себестоимость',sum([a*b for a,b in zip(c_sebes, V)]))\n",
        "print('Уровень нагрузки',sum([a*b for a,b in zip(c_ur_nag, V)]))"
      ],
      "execution_count": 166,
      "outputs": [
        {
          "output_type": "stream",
          "name": "stdout",
          "text": [
            "x =  [100. 100. 100. 498. 268.]\n",
            "Прибыль: 2500.0\n",
            "Валовый объем 12484.0\n",
            "Себестоимость 9984.0\n",
            "Уровень нагрузки 11596.0\n"
          ]
        }
      ]
    },
    {
      "cell_type": "markdown",
      "metadata": {
        "id": "y0A2PDdq35qW"
      },
      "source": [
        "# Прибыль"
      ]
    },
    {
      "cell_type": "code",
      "metadata": {
        "id": "dggvOMJNzaez"
      },
      "source": [
        "LP1 = pulp.LpProblem('Прибыль', pulp.LpMaximize)\n",
        "LP1 += pulp.lpSum([coef*var for coef, var in zip(c_prib, variables)]), \"Прибыль\"\n",
        "\n",
        "for cons, b in zip(cons_res, b_res):\n",
        "    LP1+= pulp.lpSum([coef*var for coef, var in zip(cons, variables)]) <= b\n",
        "\n",
        "for cons, b in zip(cons_fond, b_fond):\n",
        "    LP1+= pulp.lpSum([coef*var for coef, var in zip(cons, variables)]) <= b"
      ],
      "execution_count": 134,
      "outputs": []
    },
    {
      "cell_type": "code",
      "metadata": {
        "colab": {
          "base_uri": "https://localhost:8080/"
        },
        "id": "V08GkwGAzhMC",
        "outputId": "bb1c8107-832c-4bc5-aacb-926d3e03b2d8"
      },
      "source": [
        "LP1"
      ],
      "execution_count": 135,
      "outputs": [
        {
          "output_type": "execute_result",
          "data": {
            "text/plain": [
              "Прибыль:\n",
              "MAXIMIZE\n",
              "3*x1 + 1*x2 + 3*x3 + 2*x4 + 3*x5 + 0\n",
              "SUBJECT TO\n",
              "_C1: 4 x1 + 5 x2 + 3 x3 + 2 x4 + 3 x5 <= 3000\n",
              "\n",
              "_C2: 2 x1 + 4 x2 + 4 x3 + 4 x4 + 2 x5 <= 4500\n",
              "\n",
              "_C3: 3 x1 + x2 + x4 + x5 <= 1500\n",
              "\n",
              "_C4: 2 x1 + 3 x2 + 5 x3 + 4 x4 + 5 x5 <= 5000\n",
              "\n",
              "_C5: x1 + 2 x2 + 6 x3 + 3 x4 + 2 x5 <= 4000\n",
              "\n",
              "_C6: 3 x1 + 4 x2 + 4 x3 + x4 + 4 x5 <= 4000\n",
              "\n",
              "_C7: x1 + x2 + 2 x3 + 2 x4 + x5 <= 2000\n",
              "\n",
              "VARIABLES\n",
              "100 <= x1 <= 500 Integer\n",
              "100 <= x2 <= 500 Integer\n",
              "100 <= x3 <= 500 Integer\n",
              "100 <= x4 <= 500 Integer\n",
              "100 <= x5 <= 500 Integer"
            ]
          },
          "metadata": {},
          "execution_count": 135
        }
      ]
    },
    {
      "cell_type": "code",
      "metadata": {
        "colab": {
          "base_uri": "https://localhost:8080/"
        },
        "id": "QazUToPV1lj6",
        "outputId": "9306b2f4-84ac-4fe0-8179-f76456479780"
      },
      "source": [
        "s1 = LP1.solve()\n",
        "V = np.array([])\n",
        "for v in LP1.variables():\n",
        "    V = np.append(V, v.varValue)\n",
        "print('x = ', V)\n",
        "prib_opt = sum([a*b for a,b in zip(c_prib, V)])\n",
        "print(prib_opt)"
      ],
      "execution_count": 136,
      "outputs": [
        {
          "output_type": "stream",
          "name": "stdout",
          "text": [
            "x =  [100. 100. 100. 498. 268.]\n",
            "2500.0\n"
          ]
        }
      ]
    },
    {
      "cell_type": "code",
      "metadata": {
        "colab": {
          "base_uri": "https://localhost:8080/",
          "height": 35
        },
        "id": "JiVhzzpl2CDO",
        "outputId": "dfdb190f-3b34-4435-8d1e-7f862be5d994"
      },
      "source": [
        "pulp.LpStatus[LP1.status]"
      ],
      "execution_count": 83,
      "outputs": [
        {
          "output_type": "execute_result",
          "data": {
            "application/vnd.google.colaboratory.intrinsic+json": {
              "type": "string"
            },
            "text/plain": [
              "'Optimal'"
            ]
          },
          "metadata": {},
          "execution_count": 83
        }
      ]
    },
    {
      "cell_type": "markdown",
      "metadata": {
        "id": "haF-dZnx39hC"
      },
      "source": [
        "# Валовый объем"
      ]
    },
    {
      "cell_type": "code",
      "metadata": {
        "id": "gtZUOFCl4Jr9"
      },
      "source": [
        "LP2 = pulp.LpProblem('Валовый_объем', pulp.LpMaximize)\n",
        "LP2 += pulp.lpSum([coef*var for coef, var in zip(c_val_ob, variables)]), \"Объем\"\n",
        "for cons, b in zip(cons_res, b_res):\n",
        "    LP2+= pulp.lpSum([coef*var for coef, var in zip(cons, variables)]) <= b\n",
        "\n",
        "for cons, b in zip(cons_fond, b_fond):\n",
        "    LP2+= pulp.lpSum([coef*var for coef, var in zip(cons, variables)]) <= b"
      ],
      "execution_count": 84,
      "outputs": []
    },
    {
      "cell_type": "code",
      "metadata": {
        "id": "aKYOC_qK4dzL"
      },
      "source": [
        "LP2 += pulp.lpSum([coef*var for coef, var in zip(c_prib, variables)]) >= prib_opt-(prib_opt*ust)"
      ],
      "execution_count": 85,
      "outputs": []
    },
    {
      "cell_type": "code",
      "metadata": {
        "colab": {
          "base_uri": "https://localhost:8080/"
        },
        "id": "CnkqsFJS4x20",
        "outputId": "3ed9b3d2-7a35-4eb4-b658-4b6c7198a8cf"
      },
      "source": [
        "LP2"
      ],
      "execution_count": 137,
      "outputs": [
        {
          "output_type": "execute_result",
          "data": {
            "text/plain": [
              "Валовый_объем:\n",
              "MAXIMIZE\n",
              "10*x1 + 9*x2 + 12*x3 + 14*x4 + 9*x5 + 0\n",
              "SUBJECT TO\n",
              "_C1: 4 x1 + 5 x2 + 3 x3 + 2 x4 + 3 x5 <= 3000\n",
              "\n",
              "_C2: 2 x1 + 4 x2 + 4 x3 + 4 x4 + 2 x5 <= 4500\n",
              "\n",
              "_C3: 3 x1 + x2 + x4 + x5 <= 1500\n",
              "\n",
              "_C4: 2 x1 + 3 x2 + 5 x3 + 4 x4 + 5 x5 <= 5000\n",
              "\n",
              "_C5: x1 + 2 x2 + 6 x3 + 3 x4 + 2 x5 <= 4000\n",
              "\n",
              "_C6: 3 x1 + 4 x2 + 4 x3 + x4 + 4 x5 <= 4000\n",
              "\n",
              "_C7: x1 + x2 + 2 x3 + 2 x4 + x5 <= 2000\n",
              "\n",
              "_C8: 3 x1 + x2 + 3 x3 + 2 x4 + 3 x5 >= 2250\n",
              "\n",
              "VARIABLES\n",
              "100 <= x1 <= 500 Integer\n",
              "100 <= x2 <= 500 Integer\n",
              "100 <= x3 <= 500 Integer\n",
              "100 <= x4 <= 500 Integer\n",
              "100 <= x5 <= 500 Integer"
            ]
          },
          "metadata": {},
          "execution_count": 137
        }
      ]
    },
    {
      "cell_type": "code",
      "metadata": {
        "colab": {
          "base_uri": "https://localhost:8080/"
        },
        "id": "rEVLU5V04ykP",
        "outputId": "fe866bc0-980f-4aff-ca18-190342794408"
      },
      "source": [
        "s2 = LP2.solve()\n",
        "V = np.array([])\n",
        "for v in LP2.variables():\n",
        "    V = np.append(V, v.varValue)\n",
        "print(V)\n",
        "val_ob_opt = sum([a*b for a,b in zip(c_val_ob, V)])\n",
        "print(val_ob_opt)"
      ],
      "execution_count": 138,
      "outputs": [
        {
          "output_type": "stream",
          "name": "stdout",
          "text": [
            "[100. 100. 266. 500. 100.]\n",
            "12992.0\n"
          ]
        }
      ]
    },
    {
      "cell_type": "markdown",
      "metadata": {
        "id": "m39HusWl5dlO"
      },
      "source": [
        "# Себестоимость"
      ]
    },
    {
      "cell_type": "code",
      "metadata": {
        "id": "jzuEk33P5JpW"
      },
      "source": [
        "LP3 = pulp.LpProblem('Себестоимость', pulp.LpMinimize)\n",
        "LP3 += pulp.lpSum([coef*var for coef, var in zip(c_sebes, variables)]), \"Себестоимость\"\n",
        "for cons, b in zip(cons_res, b_res):\n",
        "    LP3+= pulp.lpSum([coef*var for coef, var in zip(cons, variables)]) <= b\n",
        "\n",
        "for cons, b in zip(cons_fond, b_fond):\n",
        "    LP3+= pulp.lpSum([coef*var for coef, var in zip(cons, variables)]) <= b"
      ],
      "execution_count": 142,
      "outputs": []
    },
    {
      "cell_type": "code",
      "metadata": {
        "id": "yf9DiG095yEg"
      },
      "source": [
        "LP3 += pulp.lpSum([coef*var for coef, var in zip(c_prib, variables)]) >= prib_opt-(prib_opt*ust)\n",
        "LP3 += pulp.lpSum([coef*var for coef, var in zip(c_val_ob, variables)]) >= val_ob_opt-int((val_ob_opt*ust))"
      ],
      "execution_count": 143,
      "outputs": []
    },
    {
      "cell_type": "code",
      "metadata": {
        "colab": {
          "base_uri": "https://localhost:8080/"
        },
        "id": "gtQz4Cw66ZU0",
        "outputId": "52db5670-3dd7-4910-e86d-ae1354b879b6"
      },
      "source": [
        "LP3"
      ],
      "execution_count": 144,
      "outputs": [
        {
          "output_type": "execute_result",
          "data": {
            "text/plain": [
              "Себестоимость:\n",
              "MINIMIZE\n",
              "7*x1 + 8*x2 + 9*x3 + 12*x4 + 6*x5 + 0\n",
              "SUBJECT TO\n",
              "_C1: 4 x1 + 5 x2 + 3 x3 + 2 x4 + 3 x5 <= 3000\n",
              "\n",
              "_C2: 2 x1 + 4 x2 + 4 x3 + 4 x4 + 2 x5 <= 4500\n",
              "\n",
              "_C3: 3 x1 + x2 + x4 + x5 <= 1500\n",
              "\n",
              "_C4: 2 x1 + 3 x2 + 5 x3 + 4 x4 + 5 x5 <= 5000\n",
              "\n",
              "_C5: x1 + 2 x2 + 6 x3 + 3 x4 + 2 x5 <= 4000\n",
              "\n",
              "_C6: 3 x1 + 4 x2 + 4 x3 + x4 + 4 x5 <= 4000\n",
              "\n",
              "_C7: x1 + x2 + 2 x3 + 2 x4 + x5 <= 2000\n",
              "\n",
              "_C8: 3 x1 + x2 + 3 x3 + 2 x4 + 3 x5 >= 2125\n",
              "\n",
              "_C9: 10 x1 + 9 x2 + 12 x3 + 14 x4 + 9 x5 >= 11044\n",
              "\n",
              "VARIABLES\n",
              "100 <= x1 <= 500 Integer\n",
              "100 <= x2 <= 500 Integer\n",
              "100 <= x3 <= 500 Integer\n",
              "100 <= x4 <= 500 Integer\n",
              "100 <= x5 <= 500 Integer"
            ]
          },
          "metadata": {},
          "execution_count": 144
        }
      ]
    },
    {
      "cell_type": "code",
      "metadata": {
        "colab": {
          "base_uri": "https://localhost:8080/"
        },
        "id": "V-YDoElv6aqQ",
        "outputId": "665fb3d8-b6c0-4e96-cd15-0cfc2cb12474"
      },
      "source": [
        "s3 = LP3.solve()\n",
        "V = np.array([])\n",
        "for v in LP3.variables():\n",
        "    V = np.append(V, v.varValue)\n",
        "print(V)\n",
        "sebes_opt = sum([a*b for a,b in zip(c_sebes, V)])\n",
        "print(sebes_opt)\n",
        "print(sum([a*b for a,b in zip(c_prib, V)]))\n",
        "print(sum([a*b for a,b in zip(c_val_ob, V)]))"
      ],
      "execution_count": 145,
      "outputs": [
        {
          "output_type": "stream",
          "name": "stdout",
          "text": [
            "[100. 100. 100. 318. 388.]\n",
            "8544.0\n",
            "2500.0\n",
            "11044.0\n"
          ]
        }
      ]
    },
    {
      "cell_type": "markdown",
      "metadata": {
        "id": "hGjtU1Er7Ag4"
      },
      "source": [
        "# Загрузка оборудования"
      ]
    },
    {
      "cell_type": "code",
      "metadata": {
        "id": "6eUZInIP6t3q"
      },
      "source": [
        "LP4 = pulp.LpProblem('Загрузка', pulp.LpMinimize)\n",
        "LP4 += pulp.lpSum([coef*var for coef, var in zip(c_ur_nag, variables)]), \"Загрузка\"\n",
        "for cons, b in zip(cons_res, b_res):\n",
        "    LP4+= pulp.lpSum([coef*var for coef, var in zip(cons, variables)]) <= b\n",
        "\n",
        "for cons, b in zip(cons_fond, b_fond):\n",
        "    LP4+= pulp.lpSum([coef*var for coef, var in zip(cons, variables)]) <= b"
      ],
      "execution_count": 146,
      "outputs": []
    },
    {
      "cell_type": "code",
      "metadata": {
        "id": "0RGIYhjs7VV4"
      },
      "source": [
        "LP4 += pulp.lpSum([coef*var for coef, var in zip(c_prib, variables)]) >= prib_opt-int((prib_opt*ust))\n",
        "LP4 += pulp.lpSum([coef*var for coef, var in zip(c_val_ob, variables)]) >= val_ob_opt-int((val_ob_opt*ust))\n",
        "LP4 += pulp.lpSum([coef*var for coef, var in zip(c_sebes, variables)]) <= sebes_opt+int((sebes_opt*ust))"
      ],
      "execution_count": 147,
      "outputs": []
    },
    {
      "cell_type": "code",
      "metadata": {
        "colab": {
          "base_uri": "https://localhost:8080/"
        },
        "id": "3aSIPcgY7gQH",
        "outputId": "d15ecde3-2586-4dd3-88d3-cf1f9b66c30a"
      },
      "source": [
        "LP4"
      ],
      "execution_count": 148,
      "outputs": [
        {
          "output_type": "execute_result",
          "data": {
            "text/plain": [
              "Загрузка:\n",
              "MINIMIZE\n",
              "7*x1 + 10*x2 + 17*x3 + 10*x4 + 12*x5 + 0\n",
              "SUBJECT TO\n",
              "_C1: 4 x1 + 5 x2 + 3 x3 + 2 x4 + 3 x5 <= 3000\n",
              "\n",
              "_C2: 2 x1 + 4 x2 + 4 x3 + 4 x4 + 2 x5 <= 4500\n",
              "\n",
              "_C3: 3 x1 + x2 + x4 + x5 <= 1500\n",
              "\n",
              "_C4: 2 x1 + 3 x2 + 5 x3 + 4 x4 + 5 x5 <= 5000\n",
              "\n",
              "_C5: x1 + 2 x2 + 6 x3 + 3 x4 + 2 x5 <= 4000\n",
              "\n",
              "_C6: 3 x1 + 4 x2 + 4 x3 + x4 + 4 x5 <= 4000\n",
              "\n",
              "_C7: x1 + x2 + 2 x3 + 2 x4 + x5 <= 2000\n",
              "\n",
              "_C8: 3 x1 + x2 + 3 x3 + 2 x4 + 3 x5 >= 2125\n",
              "\n",
              "_C9: 10 x1 + 9 x2 + 12 x3 + 14 x4 + 9 x5 >= 11044\n",
              "\n",
              "_C10: 7 x1 + 8 x2 + 9 x3 + 12 x4 + 6 x5 <= 9825\n",
              "\n",
              "VARIABLES\n",
              "100 <= x1 <= 500 Integer\n",
              "100 <= x2 <= 500 Integer\n",
              "100 <= x3 <= 500 Integer\n",
              "100 <= x4 <= 500 Integer\n",
              "100 <= x5 <= 500 Integer"
            ]
          },
          "metadata": {},
          "execution_count": 148
        }
      ]
    },
    {
      "cell_type": "code",
      "metadata": {
        "id": "vIWAp8QU9qjX"
      },
      "source": [
        "LP4 += pulp.lpSum([coef*var for coef, var in zip([1,0,0,0,0], variables)]) >= 100"
      ],
      "execution_count": 149,
      "outputs": []
    },
    {
      "cell_type": "code",
      "metadata": {
        "colab": {
          "base_uri": "https://localhost:8080/"
        },
        "id": "ZVwRjErK7g8z",
        "outputId": "bb12155e-bddf-4123-9fc1-a8809012e191"
      },
      "source": [
        "s4 = LP4.solve()\n",
        "V = np.array([])\n",
        "for v in LP4.variables():\n",
        "    V = np.append(V, v.varValue)\n",
        "print(V)\n",
        "ur_nag_opt = sum([a*b for a,b in zip(c_ur_nag, V)])\n",
        "print('Прибыль:',sum([a*b for a,b in zip(c_prib, V)]))\n",
        "print('Валовый объем', sum([a*b for a,b in zip(c_val_ob, V)]))\n",
        "print('Себестоимость',sum([a*b for a,b in zip(c_sebes, V)]))\n",
        "print('Уровень нагрузки',ur_nag_opt)"
      ],
      "execution_count": 152,
      "outputs": [
        {
          "output_type": "stream",
          "name": "stdout",
          "text": [
            "[292. 100. 100. 366. 100.]\n",
            "Прибыль: 2308.0\n",
            "Валовый объем 11044.0\n",
            "Себестоимость 8736.0\n",
            "Уровень нагрузки 9604.0\n"
          ]
        }
      ]
    },
    {
      "cell_type": "code",
      "metadata": {
        "id": "c0mvCqWp7wbz"
      },
      "source": [
        ""
      ],
      "execution_count": 95,
      "outputs": []
    }
  ]
}