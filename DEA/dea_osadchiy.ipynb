{
  "nbformat": 4,
  "nbformat_minor": 0,
  "metadata": {
    "colab": {
      "name": "dea_osadchiy.ipynb",
      "provenance": []
    },
    "kernelspec": {
      "name": "python3",
      "display_name": "Python 3"
    },
    "language_info": {
      "name": "python"
    }
  },
  "cells": [
    {
      "cell_type": "code",
      "metadata": {
        "colab": {
          "base_uri": "https://localhost:8080/"
        },
        "id": "BvEOBtYRZqDR",
        "outputId": "ac860370-2eb4-4cb2-fbe5-eba48cc63b45"
      },
      "source": [
        "!pip install pulp"
      ],
      "execution_count": 1,
      "outputs": [
        {
          "output_type": "stream",
          "name": "stdout",
          "text": [
            "Requirement already satisfied: pulp in /usr/local/lib/python3.7/dist-packages (2.5.1)\n"
          ]
        }
      ]
    },
    {
      "cell_type": "code",
      "metadata": {
        "id": "QaBrw8yxZvtR"
      },
      "source": [
        "import numpy as np\n",
        "from pulp import LpMaximize, LpProblem, LpVariable, LpStatus, lpSum"
      ],
      "execution_count": 19,
      "outputs": []
    },
    {
      "cell_type": "code",
      "metadata": {
        "colab": {
          "base_uri": "https://localhost:8080/"
        },
        "id": "IiSQsdUsZ0IM",
        "outputId": "081592ee-8363-403e-c74f-68e8d825744d"
      },
      "source": [
        "from google.colab import drive\n",
        "drive.mount('/content/drive')"
      ],
      "execution_count": 20,
      "outputs": [
        {
          "output_type": "stream",
          "name": "stdout",
          "text": [
            "Drive already mounted at /content/drive; to attempt to forcibly remount, call drive.mount(\"/content/drive\", force_remount=True).\n"
          ]
        }
      ]
    },
    {
      "cell_type": "code",
      "metadata": {
        "colab": {
          "base_uri": "https://localhost:8080/",
          "height": 269
        },
        "id": "kShmCU7mZ2WS",
        "outputId": "6a56ed93-486f-493b-9e7d-c024f56d75d5"
      },
      "source": [
        "import pandas as pd\n",
        "df = pd.read_csv(\"/content/drive/MyDrive/dss/05_Варианты.csv\", sep=';', index_col=0)\n",
        "df.head()"
      ],
      "execution_count": 21,
      "outputs": [
        {
          "output_type": "execute_result",
          "data": {
            "text/html": [
              "<div>\n",
              "<style scoped>\n",
              "    .dataframe tbody tr th:only-of-type {\n",
              "        vertical-align: middle;\n",
              "    }\n",
              "\n",
              "    .dataframe tbody tr th {\n",
              "        vertical-align: top;\n",
              "    }\n",
              "\n",
              "    .dataframe thead th {\n",
              "        text-align: right;\n",
              "    }\n",
              "</style>\n",
              "<table border=\"1\" class=\"dataframe\">\n",
              "  <thead>\n",
              "    <tr style=\"text-align: right;\">\n",
              "      <th></th>\n",
              "      <th>Ассортимент товара</th>\n",
              "      <th>Внешняя реклама</th>\n",
              "      <th>Внутренняя реклама</th>\n",
              "      <th>Коммуникабельность</th>\n",
              "      <th>Наличие автопарковки</th>\n",
              "      <th>Ассортимент конкурента 1</th>\n",
              "      <th>Ассортимент конкурента 2</th>\n",
              "      <th>Посещаемость в день (тыс. чел-к)</th>\n",
              "      <th>Торговая площадь (тыс. кв м)</th>\n",
              "      <th>Выручка за день (тыс. долларов)</th>\n",
              "    </tr>\n",
              "    <tr>\n",
              "      <th>Магазины</th>\n",
              "      <th></th>\n",
              "      <th></th>\n",
              "      <th></th>\n",
              "      <th></th>\n",
              "      <th></th>\n",
              "      <th></th>\n",
              "      <th></th>\n",
              "      <th></th>\n",
              "      <th></th>\n",
              "      <th></th>\n",
              "    </tr>\n",
              "  </thead>\n",
              "  <tbody>\n",
              "    <tr>\n",
              "      <th>1</th>\n",
              "      <td>3</td>\n",
              "      <td>1</td>\n",
              "      <td>1</td>\n",
              "      <td>4</td>\n",
              "      <td>2</td>\n",
              "      <td>5</td>\n",
              "      <td>4</td>\n",
              "      <td>23.0</td>\n",
              "      <td>2.00</td>\n",
              "      <td>27.6</td>\n",
              "    </tr>\n",
              "    <tr>\n",
              "      <th>2</th>\n",
              "      <td>4</td>\n",
              "      <td>2</td>\n",
              "      <td>3</td>\n",
              "      <td>5</td>\n",
              "      <td>2</td>\n",
              "      <td>3</td>\n",
              "      <td>3</td>\n",
              "      <td>21.0</td>\n",
              "      <td>2.25</td>\n",
              "      <td>25.2</td>\n",
              "    </tr>\n",
              "    <tr>\n",
              "      <th>3</th>\n",
              "      <td>5</td>\n",
              "      <td>1</td>\n",
              "      <td>5</td>\n",
              "      <td>5</td>\n",
              "      <td>2</td>\n",
              "      <td>4</td>\n",
              "      <td>0</td>\n",
              "      <td>13.5</td>\n",
              "      <td>1.10</td>\n",
              "      <td>13.2</td>\n",
              "    </tr>\n",
              "    <tr>\n",
              "      <th>4</th>\n",
              "      <td>4</td>\n",
              "      <td>4</td>\n",
              "      <td>3</td>\n",
              "      <td>5</td>\n",
              "      <td>1</td>\n",
              "      <td>4</td>\n",
              "      <td>5</td>\n",
              "      <td>14.0</td>\n",
              "      <td>2.50</td>\n",
              "      <td>12.8</td>\n",
              "    </tr>\n",
              "    <tr>\n",
              "      <th>5</th>\n",
              "      <td>4</td>\n",
              "      <td>4</td>\n",
              "      <td>3</td>\n",
              "      <td>4</td>\n",
              "      <td>2</td>\n",
              "      <td>3</td>\n",
              "      <td>3</td>\n",
              "      <td>35.0</td>\n",
              "      <td>3.50</td>\n",
              "      <td>40.0</td>\n",
              "    </tr>\n",
              "  </tbody>\n",
              "</table>\n",
              "</div>"
            ],
            "text/plain": [
              "          Ассортимент товара  ...  Выручка за день (тыс. долларов)\n",
              "Магазины                      ...                                 \n",
              "1                          3  ...                             27.6\n",
              "2                          4  ...                             25.2\n",
              "3                          5  ...                             13.2\n",
              "4                          4  ...                             12.8\n",
              "5                          4  ...                             40.0\n",
              "\n",
              "[5 rows x 10 columns]"
            ]
          },
          "metadata": {},
          "execution_count": 21
        }
      ]
    },
    {
      "cell_type": "markdown",
      "metadata": {
        "id": "F6NBIV-qb3n6"
      },
      "source": [
        "Выделим входы и выходы. К входам отнесем ассортимент, внешнюю и внутреннюю рекламу, коммуникабельность, наличие парковки и торговую площадь. Ассортименты конкурентов рассматривать не будем, так как это относится к внешним параметрам. В качестве выходов будем использовать посещаемость и выручку."
      ]
    },
    {
      "cell_type": "code",
      "metadata": {
        "colab": {
          "base_uri": "https://localhost:8080/"
        },
        "id": "zRlC1FrFamQI",
        "outputId": "a99946c1-442e-4d5e-b409-047ac9ba6361"
      },
      "source": [
        "df.info()"
      ],
      "execution_count": 22,
      "outputs": [
        {
          "output_type": "stream",
          "name": "stdout",
          "text": [
            "<class 'pandas.core.frame.DataFrame'>\n",
            "Int64Index: 30 entries, 1 to 30\n",
            "Data columns (total 10 columns):\n",
            " #   Column                            Non-Null Count  Dtype  \n",
            "---  ------                            --------------  -----  \n",
            " 0   Ассортимент товара                30 non-null     int64  \n",
            " 1   Внешняя реклама                   30 non-null     int64  \n",
            " 2   Внутренняя реклама                30 non-null     int64  \n",
            " 3   Коммуникабельность                30 non-null     int64  \n",
            " 4   Наличие автопарковки              30 non-null     int64  \n",
            " 5   Ассортимент конкурента 1          30 non-null     int64  \n",
            " 6   Ассортимент конкурента 2          30 non-null     int64  \n",
            " 7   Посещаемость в день (тыс. чел-к)  30 non-null     float64\n",
            " 8   Торговая площадь (тыс. кв м)      30 non-null     float64\n",
            " 9   Выручка за день (тыс. долларов)   30 non-null     float64\n",
            "dtypes: float64(3), int64(7)\n",
            "memory usage: 2.6 KB\n"
          ]
        }
      ]
    },
    {
      "cell_type": "code",
      "metadata": {
        "id": "g6c6_oujeFXY"
      },
      "source": [
        "df.columns = ['assort', 'vnesh_rek', 'vnut_rek', 'komm', 'park', 'a1', 'a2', 'pos', 'plosch', 'vyr']"
      ],
      "execution_count": 23,
      "outputs": []
    },
    {
      "cell_type": "code",
      "metadata": {
        "id": "Caev654DbUe7"
      },
      "source": [
        "varV = [LpVariable(i, lowBound=0.00001) for i in df.columns[[0,1,2,3,4,8]] ]"
      ],
      "execution_count": 24,
      "outputs": []
    },
    {
      "cell_type": "code",
      "metadata": {
        "id": "z8HM5YkcdWH9"
      },
      "source": [
        "varU = [LpVariable(i, lowBound=0.00001) for i in df.columns[[7, 9]]]"
      ],
      "execution_count": 25,
      "outputs": []
    },
    {
      "cell_type": "code",
      "metadata": {
        "colab": {
          "base_uri": "https://localhost:8080/"
        },
        "id": "5zG3-6EAfBh8",
        "outputId": "872531f8-d28e-45b5-b4eb-025a7d609464"
      },
      "source": [
        "df.index"
      ],
      "execution_count": 26,
      "outputs": [
        {
          "output_type": "execute_result",
          "data": {
            "text/plain": [
              "Int64Index([ 1,  2,  3,  4,  5,  6,  7,  8,  9, 10, 11, 12, 13, 14, 15, 16, 17,\n",
              "            18, 19, 20, 21, 22, 23, 24, 25, 26, 27, 28, 29, 30],\n",
              "           dtype='int64', name='Магазины')"
            ]
          },
          "metadata": {},
          "execution_count": 26
        }
      ]
    },
    {
      "cell_type": "markdown",
      "metadata": {
        "id": "CRVbA1SulVhd"
      },
      "source": [
        "Создадим функцию, составляющую линеаризованную ЗЛП и решающую ее"
      ]
    },
    {
      "cell_type": "code",
      "metadata": {
        "id": "o5rY_7YAef1z"
      },
      "source": [
        "def dea(mag, varV, varU):\n",
        "  LP = LpProblem('dea_'+str(mag), sense=LpMaximize)\n",
        "\n",
        "  LP += lpSum([df.loc[mag][var.name] *var for var in varV]) == 1, 'chislit'\n",
        "  LP += lpSum([df.loc[mag][var.name] *var for var in varU])\n",
        "  for i in df.index:\n",
        "    if i != mag:\n",
        "        LP += lpSum([df.loc[i][var.name] *var for var in varU]) -  lpSum([df.loc[i][var.name] *var for var in varV]) <= 0, i\n",
        "  #print(LP)\n",
        "  status = LP.solve()\n",
        "  return LP"
      ],
      "execution_count": 27,
      "outputs": []
    },
    {
      "cell_type": "markdown",
      "metadata": {
        "id": "PQBbrq3glhT3"
      },
      "source": [
        "Для заданного списка магазинов mags расчитаем эффективность"
      ]
    },
    {
      "cell_type": "code",
      "metadata": {
        "colab": {
          "base_uri": "https://localhost:8080/",
          "height": 142
        },
        "id": "2UuaKtDufGtq",
        "outputId": "9dafc1dc-c2bb-4d77-826b-f2dff03b1b89"
      },
      "source": [
        "mags = [1,3,5]\n",
        "res = pd.DataFrame(index = mags, columns = ['assort', 'vnesh_rek', 'vnut_rek', 'komm', 'park', 'pos', 'plosch', 'vyr', 'efficiency'])\n",
        "for i in mags:\n",
        "  LP = dea(i, varV, varU)\n",
        "  for var in LP.variables():\n",
        "    res.loc[i][var.name] = var.value()\n",
        "  res.loc[i]['efficiency'] = LP.objective.value()\n",
        "res"
      ],
      "execution_count": 28,
      "outputs": [
        {
          "output_type": "execute_result",
          "data": {
            "text/html": [
              "<div>\n",
              "<style scoped>\n",
              "    .dataframe tbody tr th:only-of-type {\n",
              "        vertical-align: middle;\n",
              "    }\n",
              "\n",
              "    .dataframe tbody tr th {\n",
              "        vertical-align: top;\n",
              "    }\n",
              "\n",
              "    .dataframe thead th {\n",
              "        text-align: right;\n",
              "    }\n",
              "</style>\n",
              "<table border=\"1\" class=\"dataframe\">\n",
              "  <thead>\n",
              "    <tr style=\"text-align: right;\">\n",
              "      <th></th>\n",
              "      <th>assort</th>\n",
              "      <th>vnesh_rek</th>\n",
              "      <th>vnut_rek</th>\n",
              "      <th>komm</th>\n",
              "      <th>park</th>\n",
              "      <th>pos</th>\n",
              "      <th>plosch</th>\n",
              "      <th>vyr</th>\n",
              "      <th>efficiency</th>\n",
              "    </tr>\n",
              "  </thead>\n",
              "  <tbody>\n",
              "    <tr>\n",
              "      <th>1</th>\n",
              "      <td>1e-05</td>\n",
              "      <td>0.71397</td>\n",
              "      <td>0.00399696</td>\n",
              "      <td>1e-05</td>\n",
              "      <td>1e-05</td>\n",
              "      <td>1e-05</td>\n",
              "      <td>0.140971</td>\n",
              "      <td>0.0673491</td>\n",
              "      <td>1.85907</td>\n",
              "    </tr>\n",
              "    <tr>\n",
              "      <th>3</th>\n",
              "      <td>1e-05</td>\n",
              "      <td>0.260955</td>\n",
              "      <td>1e-05</td>\n",
              "      <td>1e-05</td>\n",
              "      <td>1e-05</td>\n",
              "      <td>0.0697473</td>\n",
              "      <td>0.671704</td>\n",
              "      <td>1e-05</td>\n",
              "      <td>0.941721</td>\n",
              "    </tr>\n",
              "    <tr>\n",
              "      <th>5</th>\n",
              "      <td>0.180968</td>\n",
              "      <td>1e-05</td>\n",
              "      <td>1e-05</td>\n",
              "      <td>1e-05</td>\n",
              "      <td>1e-05</td>\n",
              "      <td>0.0196198</td>\n",
              "      <td>0.0788569</td>\n",
              "      <td>0.00803135</td>\n",
              "      <td>1.00795</td>\n",
              "    </tr>\n",
              "  </tbody>\n",
              "</table>\n",
              "</div>"
            ],
            "text/plain": [
              "     assort vnesh_rek    vnut_rek  ...     plosch         vyr efficiency\n",
              "1     1e-05   0.71397  0.00399696  ...   0.140971   0.0673491    1.85907\n",
              "3     1e-05  0.260955       1e-05  ...   0.671704       1e-05   0.941721\n",
              "5  0.180968     1e-05       1e-05  ...  0.0788569  0.00803135    1.00795\n",
              "\n",
              "[3 rows x 9 columns]"
            ]
          },
          "metadata": {},
          "execution_count": 28
        }
      ]
    }
  ]
}