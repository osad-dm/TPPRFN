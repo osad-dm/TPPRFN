{
  "nbformat": 4,
  "nbformat_minor": 0,
  "metadata": {
    "colab": {
      "name": "criteria.ipynb",
      "provenance": [],
      "collapsed_sections": []
    },
    "kernelspec": {
      "name": "python3",
      "display_name": "Python 3"
    },
    "language_info": {
      "name": "python"
    }
  },
  "cells": [
    {
      "cell_type": "code",
      "metadata": {
        "id": "NjQEqV64oPwB"
      },
      "source": [
        "import numpy as np"
      ],
      "execution_count": 2,
      "outputs": []
    },
    {
      "cell_type": "code",
      "metadata": {
        "id": "4WT1ejSvmns8"
      },
      "source": [
        "def bayes_method(A, P):\n",
        "    return np.argmax(np.sum(A * P, axis=1))\n",
        "\n",
        "def laplas_method(A):\n",
        "    return np.argmax(np.sum(A * 1 / A.shape[1], axis=1))\n",
        "\n",
        "def vald_method(A):\n",
        "    return np.argmax(np.min(A, axis=1))\n",
        "\n",
        "def sevidge_method(A):\n",
        "    return np.argmin(np.max(np.max(A, axis=0) - A, axis=1))\n",
        "\n",
        "def gurvic_method(A, a):\n",
        "    return np.argmax(a * np.min(A, axis=1) + (1 - a) * np.max(A, axis=1))"
      ],
      "execution_count": 14,
      "outputs": []
    },
    {
      "cell_type": "code",
      "metadata": {
        "id": "O-1F1xKQnxt6"
      },
      "source": [
        "matrix = np.array([[33, 10, 20, 26.5],\n",
        "                   [50, 67, 11.5, 25], \n",
        "                   [23.5, 35, 40, 58.5]])\n",
        "\n",
        "p = np.array([0.3, 0.2, 0.4, 0.1])\n",
        "alpha = 0.1"
      ],
      "execution_count": 42,
      "outputs": []
    },
    {
      "cell_type": "code",
      "metadata": {
        "colab": {
          "base_uri": "https://localhost:8080/"
        },
        "id": "uiHSKrqtohXR",
        "outputId": "499063d6-7da2-42f1-9d62-ee5256c18ba3"
      },
      "source": [
        "print(\"Best strategy by Bayes:\", bayes_method(matrix, p))\n",
        "print(\"Best strategy by Laplas:\", laplas_method(matrix))\n",
        "print(\"Best strategy by Vald:\", vald_method(matrix))\n",
        "print(\"Best strategy by Sevidge:\", sevidge_method(matrix))\n",
        "print(\"Best strategy by Gurvic:\", gurvic_method(matrix, alpha))\n"
      ],
      "execution_count": 43,
      "outputs": [
        {
          "output_type": "stream",
          "name": "stdout",
          "text": [
            "Best strategy by Bayes: 2\n",
            "Best strategy by Laplas: 2\n",
            "Best strategy by Vald: 2\n",
            "Best strategy by Sevidge: 2\n",
            "Best strategy by Gurvic: 1\n"
          ]
        }
      ]
    },
    {
      "cell_type": "code",
      "metadata": {
        "id": "7NOu76Aco1WT"
      },
      "source": [
        ""
      ],
      "execution_count": null,
      "outputs": []
    }
  ]
}