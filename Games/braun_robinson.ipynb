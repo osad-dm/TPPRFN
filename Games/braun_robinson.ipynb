{
  "nbformat": 4,
  "nbformat_minor": 0,
  "metadata": {
    "colab": {
      "name": "braun-robinson.ipynb",
      "provenance": []
    },
    "kernelspec": {
      "name": "python3",
      "display_name": "Python 3"
    },
    "language_info": {
      "name": "python"
    }
  },
  "cells": [
    {
      "cell_type": "code",
      "metadata": {
        "id": "lXMvZwtnfs90"
      },
      "source": [
        "import numpy as np"
      ],
      "execution_count": 1,
      "outputs": []
    },
    {
      "cell_type": "code",
      "metadata": {
        "id": "mgnmtRJgf12N"
      },
      "source": [
        "matrix = np.array([[33, 10, 20, 26.5],\n",
        "                   [50, 67, 11.5, 25], \n",
        "                   [23.5, 35, 40, 58.5]])\n",
        "\n"
      ],
      "execution_count": 103,
      "outputs": []
    },
    {
      "cell_type": "code",
      "metadata": {
        "id": "_FDN7vuV85Ki"
      },
      "source": [
        "eps = 0.1"
      ],
      "execution_count": 111,
      "outputs": []
    },
    {
      "cell_type": "code",
      "metadata": {
        "id": "-G00DQAPjYPv"
      },
      "source": [
        "np.random.seed = 42\n",
        "matrix = np.random.randint(-10, 10, size=(100, 100))"
      ],
      "execution_count": 106,
      "outputs": []
    },
    {
      "cell_type": "markdown",
      "metadata": {
        "id": "JoM3TDlHiirV"
      },
      "source": [
        "# Браун-Робинсон"
      ]
    },
    {
      "cell_type": "code",
      "metadata": {
        "colab": {
          "base_uri": "https://localhost:8080/"
        },
        "id": "tcjJOdn7gu9o",
        "outputId": "b38e4ac5-bf59-4726-f882-4df85ff61091"
      },
      "source": [
        "%%time \n",
        "prev_P = np.zeros((1, matrix.shape[0]))\n",
        "prev_Q = np.zeros((matrix.shape[1],1))\n",
        "i = np.argmax(np.mean(matrix, axis=1))\n",
        "j = np.argmin(np.mean(matrix, axis=0))\n",
        "\n",
        "prev_P[0,i] = 1\n",
        "prev_Q[j] = 1\n",
        "\n",
        "best_P = prev_P\n",
        "best_Q = prev_Q\n",
        "\n",
        "alpha_k = np.min(matrix[i])\n",
        "beta_k = np.max(matrix[:,j])\n",
        "\n",
        "k = 1\n",
        "\n",
        "\n",
        "while True:        \n",
        "    i_new = np.argmax(np.dot(matrix, prev_Q))\n",
        "    j_new = np.argmin(np.dot(prev_P, matrix))\n",
        "\n",
        "    Q_k = k * prev_Q / (k + 1)\n",
        "    Q_k[j_new] += 1 / (k + 1)\n",
        "\n",
        "    P_k = k * prev_P / (k + 1)\n",
        "\n",
        "    P_k[0,i_new] += 1 / (k + 1)\n",
        "\n",
        "    alpha_P = np.min(np.dot(P_k, matrix))\n",
        "    beta_Q = np.max(np.dot(matrix, Q_k))\n",
        "\n",
        "    if alpha_k < alpha_P:\n",
        "        alpha_k = alpha_P\n",
        "        best_P = P_k\n",
        "    if beta_k > beta_Q:\n",
        "        beta_k = beta_Q\n",
        "        best_Q = Q_k\n",
        "\n",
        "    prev_P = P_k\n",
        "    prev_Q = Q_k\n",
        "\n",
        "    delta = beta_k - alpha_k\n",
        "    if delta <= 2*eps:\n",
        "        break\n",
        "    else:\n",
        "        k+=1\n",
        "print(k)"
      ],
      "execution_count": 112,
      "outputs": [
        {
          "output_type": "stream",
          "name": "stdout",
          "text": [
            "31514\n",
            "CPU times: user 5.56 s, sys: 4.57 s, total: 10.1 s\n",
            "Wall time: 5.23 s\n"
          ]
        }
      ]
    },
    {
      "cell_type": "code",
      "metadata": {
        "id": "_LEJksR1hcn8"
      },
      "source": [
        "I = (alpha_k + beta_k)/2"
      ],
      "execution_count": 95,
      "outputs": []
    },
    {
      "cell_type": "code",
      "metadata": {
        "colab": {
          "base_uri": "https://localhost:8080/"
        },
        "id": "RAt-LRonhh70",
        "outputId": "e703e1b6-a49a-4fcb-d3a4-a56dd5377921"
      },
      "source": [
        "  print('Игрок 1:')\n",
        "  print(pd.DataFrame(best_P, columns=[f'Сратегия {i+1}' for i in range(len(best_P[0]))]))\n",
        "  print(f'Игрок 2:')\n",
        "  print(pd.DataFrame(best_Q.reshape(1,-1), columns=[f'Сратегия {i+1}' for i in range(len((best_Q.reshape(1,-1)[0])))]))\n",
        "  print(f'Цена игры: {round(I, 4)}')"
      ],
      "execution_count": 79,
      "outputs": [
        {
          "output_type": "stream",
          "name": "stdout",
          "text": [
            "Игрок 1:\n",
            "   Сратегия 1  Сратегия 2  Сратегия 3  ...  Сратегия 98  Сратегия 99  Сратегия 100\n",
            "0    0.005205     0.00067         0.0  ...          0.0     0.038169      0.003391\n",
            "\n",
            "[1 rows x 100 columns]\n",
            "Игрок 2:\n",
            "   Сратегия 1  Сратегия 2  Сратегия 3  ...  Сратегия 98  Сратегия 99  Сратегия 100\n",
            "0    0.015679    0.009559    0.001608  ...     0.000536     0.001876           0.0\n",
            "\n",
            "[1 rows x 100 columns]\n",
            "Цена игры: -0.3746\n"
          ]
        }
      ]
    },
    {
      "cell_type": "markdown",
      "metadata": {
        "id": "bhT0LLHbimYx"
      },
      "source": [
        "# Сведение к ЗЛП"
      ]
    },
    {
      "cell_type": "code",
      "metadata": {
        "colab": {
          "base_uri": "https://localhost:8080/"
        },
        "id": "dZRQw0AHiuUX",
        "outputId": "3b93712d-c075-4f18-d314-986b2d5d6d7b"
      },
      "source": [
        "!pip install pulp"
      ],
      "execution_count": 80,
      "outputs": [
        {
          "output_type": "stream",
          "name": "stdout",
          "text": [
            "Requirement already satisfied: pulp in /usr/local/lib/python3.7/dist-packages (2.5.1)\n"
          ]
        }
      ]
    },
    {
      "cell_type": "code",
      "metadata": {
        "id": "eYa87MFohoG3"
      },
      "source": [
        "import pandas as pd\n",
        "from pulp import *"
      ],
      "execution_count": 81,
      "outputs": []
    },
    {
      "cell_type": "code",
      "metadata": {
        "id": "vkUBMC8Misrj"
      },
      "source": [
        "\n",
        "def clean_strg(A):\n",
        "  low_value = np.max(np.min(A, axis=1))\n",
        "  high_value = np.min(np.max(A, axis=0))\n",
        "  print(low_value, ' ', high_value)\n",
        "  if np.isclose(low_value, high_value):\n",
        "    game_price = low_value\n",
        "  else:\n",
        "    game_price = None\n",
        "  return game_price"
      ],
      "execution_count": 82,
      "outputs": []
    },
    {
      "cell_type": "code",
      "metadata": {
        "colab": {
          "base_uri": "https://localhost:8080/"
        },
        "id": "ern3g5v1i2Vo",
        "outputId": "a1b46c1b-092c-4562-d532-6c4bb268f262"
      },
      "source": [
        "%%time\n",
        "if clean_strg(matrix):\n",
        "  print('Игра решается в чистых стратегиях. Цена игры:', clean_strg(matrix))\n",
        "  strategy_first = np.argmax(np.min(matrix, axis=1))\n",
        "  strategy_second = np.argmin(np.max(matrix, axis=0))\n",
        "  print('Стратегия для первого игрока: ', strategy_first+1, '. Для второго: ', strategy_second+1)\n",
        "else: \n",
        "  print('Игра не решается в чистых стратегиях.')\n",
        "  if (matrix <= 0).any():\n",
        "    a = np.abs(matrix.min()) + 1\n",
        "    matrix += a\n",
        "  else:\n",
        "    a = 0\n",
        "\n",
        "  LP1 = pulp.LpProblem('1player', 1)\n",
        "  vars1 = LpVariable.dicts('1p', range(0, matrix.T.shape[1]), cat='Continuous', lowBound=0)\n",
        "  LP1 += lpSum([vars1[var] for var in vars1]), \"P1\"\n",
        "  for i in range(0, matrix.T.shape[0]):\n",
        "    LP1+= lpSum([matrix.T[i][j]*vars1[j] for j in range(0, matrix.T.shape[1])]) >= 1\n",
        " # print(LP1)\n",
        "  slvr = PULP_CBC_CMD()\n",
        "  s1 = LP1.solve(slvr)\n",
        "  #print(LpStatus[s1])\n",
        "  U = np.array([])\n",
        "  for u in LP1.variables():\n",
        "    if u.varValue != None:\n",
        "      U = np.append(U, u.varValue)\n",
        "    #print(u.name, '=', u.varValue)\n",
        "\n",
        "  LP2 = pulp.LpProblem('2player', -1)\n",
        "  vars2 = LpVariable.dicts('2p', range(0, matrix.shape[1]), cat='Continuous', lowBound=0)\n",
        "  LP2 += lpSum([vars2[var] for var in vars2]), \"P2\"\n",
        "  for i in range(0, matrix.shape[0]):\n",
        "    LP2+= lpSum([matrix[i][j]*vars2[j] for j in range(0, matrix.shape[1])]) <= 1\n",
        "  #print(LP2)\n",
        "  s2 = LP2.solve()\n",
        "  V = np.array([])\n",
        "  for v in LP2.variables():\n",
        "    if v.varValue != None:\n",
        "      V = np.append(V, v.varValue)\n",
        "    #print(v.name, '=', v.varValue)\n",
        "\n",
        "  I1 = 1 / sum(U)\n",
        "  I2 = 1 / sum(V)\n",
        "  p = np.round(U * I1, 2)\n",
        "  q = np.round(V * I2, 2)\n",
        "  I = np.round(np.mean([I1, I2]), 4) - a\n",
        "  # print('Игрок 1:')\n",
        "  # print(pd.DataFrame([p], columns=[f'Сратегия {i+1}' for i in range(len(p))],\n",
        "  #                     index=['']).T, '\\n')\n",
        "  # print(f'Игрок 2:')\n",
        "  # print(pd.DataFrame([q], columns=[f'Сратегия {i+1}' for i in range(len(q))],\n",
        "  #                     index=['']).T, '\\n')\n",
        "  # print(f'Цена игры: {I}')\n"
      ],
      "execution_count": 96,
      "outputs": [
        {
          "output_type": "stream",
          "name": "stdout",
          "text": [
            "-28   27\n",
            "Игра не решается в чистых стратегиях.\n",
            "CPU times: user 582 ms, sys: 13.6 ms, total: 595 ms\n",
            "Wall time: 642 ms\n"
          ]
        }
      ]
    },
    {
      "cell_type": "code",
      "metadata": {
        "id": "rJHOG4PIi9HP"
      },
      "source": [
        ""
      ],
      "execution_count": null,
      "outputs": []
    }
  ]
}