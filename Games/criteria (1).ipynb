{
  "nbformat": 4,
  "nbformat_minor": 0,
  "metadata": {
    "colab": {
      "name": "criteria.ipynb",
      "provenance": [],
      "collapsed_sections": []
    },
    "kernelspec": {
      "name": "python3",
      "display_name": "Python 3"
    },
    "language_info": {
      "name": "python"
    }
  },
  "cells": [
    {
      "cell_type": "code",
      "metadata": {
        "colab": {
          "base_uri": "https://localhost:8080/"
        },
        "id": "BMvKdfcX-_Mu",
        "outputId": "b99135a3-67d0-49c6-8fed-eb4b39b35d4f"
      },
      "source": [
        "!pip install pulp"
      ],
      "execution_count": 1,
      "outputs": [
        {
          "output_type": "stream",
          "name": "stdout",
          "text": [
            "Requirement already satisfied: pulp in /usr/local/lib/python3.7/dist-packages (2.5.1)\n"
          ]
        }
      ]
    },
    {
      "cell_type": "code",
      "metadata": {
        "id": "NjQEqV64oPwB"
      },
      "source": [
        "import numpy as np\n",
        "import pandas as pd\n",
        "from pulp import *"
      ],
      "execution_count": 2,
      "outputs": []
    },
    {
      "cell_type": "code",
      "metadata": {
        "colab": {
          "base_uri": "https://localhost:8080/"
        },
        "id": "GJw8FYOhW1d4",
        "outputId": "f93d03b1-101d-4bc9-8b40-89c50c55a3ac"
      },
      "source": [
        "listSolvers(onlyAvailable=True)"
      ],
      "execution_count": 3,
      "outputs": [
        {
          "output_type": "execute_result",
          "data": {
            "text/plain": [
              "['PULP_CBC_CMD', 'PULP_CHOCO_CMD']"
            ]
          },
          "metadata": {},
          "execution_count": 3
        }
      ]
    },
    {
      "cell_type": "code",
      "metadata": {
        "id": "4WT1ejSvmns8"
      },
      "source": [
        "def clean_strg(A):\n",
        "  low_value = np.max(np.min(A, axis=1))\n",
        "  high_value = np.min(np.max(A, axis=0))\n",
        "  print(low_value, ' ', high_value)\n",
        "  if np.isclose(low_value, high_value):\n",
        "    game_price = low_value\n",
        "  else:\n",
        "    game_price = None\n",
        "  return game_price"
      ],
      "execution_count": 34,
      "outputs": []
    },
    {
      "cell_type": "code",
      "metadata": {
        "colab": {
          "base_uri": "https://localhost:8080/"
        },
        "id": "ZHK21k8s8y6d",
        "outputId": "03c324d3-096a-44a2-b24a-c127e45c0caf"
      },
      "source": [
        "if clean_strg(matrix):\n",
        "  print('Игра решается в чистых стратегиях. Цена игры:', clean_strg(matrix))\n",
        "  strategy_first = np.argmax(np.min(matrix, axis=1))\n",
        "  strategy_second = np.argmin(np.max(matrix, axis=0))\n",
        "  print('Стратегия для первого игрока: ', strategy_first+1, '. Для второго: ', strategy_second+1)\n",
        "else: \n",
        "  print('Игра не решается в чистых стратегиях.')\n",
        "  if (matrix <= 0).any():\n",
        "    a = np.abs(matrix.min()) + 1\n",
        "    matrix += a\n",
        "  else:\n",
        "    a = 0\n",
        "\n",
        "  LP1 = pulp.LpProblem('1player', 1)\n",
        "  vars1 = LpVariable.dicts('1p', range(0, matrix.T.shape[1]), cat='Continuous', lowBound=0)\n",
        "  LP1 += lpSum([vars1[var] for var in vars1]), \"P1\"\n",
        "  for i in range(0, matrix.T.shape[0]):\n",
        "    LP1+= lpSum([matrix.T[i][j]*vars1[j] for j in range(0, matrix.T.shape[1])]) >= 1\n",
        "  print(LP1)\n",
        "  slvr = PULP_CBC_CMD()\n",
        "  s1 = LP1.solve(slvr)\n",
        "  #print(LpStatus[s1])\n",
        "  U = np.array([])\n",
        "  for u in LP1.variables():\n",
        "    if u.varValue != None:\n",
        "      U = np.append(U, u.varValue)\n",
        "    #print(u.name, '=', u.varValue)\n",
        "\n",
        "  LP2 = pulp.LpProblem('2player', -1)\n",
        "  vars2 = LpVariable.dicts('2p', range(0, matrix.shape[1]), cat='Continuous', lowBound=0)\n",
        "  LP2 += lpSum([vars2[var] for var in vars2]), \"P2\"\n",
        "  for i in range(0, matrix.shape[0]):\n",
        "    LP2+= lpSum([matrix[i][j]*vars2[j] for j in range(0, matrix.shape[1])]) <= 1\n",
        "  print(LP2)\n",
        "  s2 = LP2.solve()\n",
        "  V = np.array([])\n",
        "  for v in LP2.variables():\n",
        "    if v.varValue != None:\n",
        "      V = np.append(V, v.varValue)\n",
        "    #print(v.name, '=', v.varValue)\n",
        "\n",
        "  I1 = 1 / sum(U)\n",
        "  I2 = 1 / sum(V)\n",
        "  p = np.round(U * I1, 2)\n",
        "  q = np.round(V * I2, 2)\n",
        "  I = np.round(np.mean([I1, I2]), 2) - a\n",
        "  print('Игрок 1:')\n",
        "  print(pd.DataFrame([p], columns=[f'Сратегия {i+1}' for i in range(len(p))],\n",
        "                      index=['']).T, '\\n')\n",
        "  print(f'Игрок 2:')\n",
        "  print(pd.DataFrame([q], columns=[f'Сратегия {i+1}' for i in range(len(q))],\n",
        "                      index=['']).T, '\\n')\n",
        "  print(f'Цена игры: {I}')\n",
        "\n"
      ],
      "execution_count": 36,
      "outputs": [
        {
          "output_type": "stream",
          "name": "stdout",
          "text": [
            "2   2\n",
            "2   2\n",
            "Игра решается в чистых стратегиях. Цена игры: 2\n",
            "Стратегия для первого игрока:  1 . Для второго:  1\n"
          ]
        }
      ]
    },
    {
      "cell_type": "code",
      "metadata": {
        "id": "O-1F1xKQnxt6"
      },
      "source": [
        "matrix = np.array([[33, 10, 20, 26.5],\n",
        "                   [50, 67, 11.5, 25], \n",
        "                   [23.5, 35, 40, 58.5]])\n",
        "\n"
      ],
      "execution_count": 21,
      "outputs": []
    },
    {
      "cell_type": "code",
      "metadata": {
        "id": "G5PS8Y7eKILO"
      },
      "source": [
        "matrix = np.array([[-2, 6, 7, 8],\n",
        "                   [-1, 3, -5, 0], \n",
        "                   [7, 5, 4, -3]])\n",
        "\n"
      ],
      "execution_count": 29,
      "outputs": []
    },
    {
      "cell_type": "code",
      "metadata": {
        "id": "ze84-X6X-kRL"
      },
      "source": [
        "matrix = np.array([[2, 4],\n",
        "                   [1, -3]])\n",
        "\n"
      ],
      "execution_count": 32,
      "outputs": []
    },
    {
      "cell_type": "code",
      "metadata": {
        "id": "UISqYGzcVkxa"
      },
      "source": [
        ""
      ],
      "execution_count": null,
      "outputs": []
    }
  ]
}