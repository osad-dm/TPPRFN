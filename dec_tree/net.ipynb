{
  "nbformat": 4,
  "nbformat_minor": 0,
  "metadata": {
    "colab": {
      "name": "net.ipynb",
      "provenance": [],
      "collapsed_sections": []
    },
    "kernelspec": {
      "name": "python3",
      "display_name": "Python 3"
    },
    "language_info": {
      "name": "python"
    }
  },
  "cells": [
    {
      "cell_type": "code",
      "metadata": {
        "id": "tyBSfG4o9rQ8"
      },
      "source": [
        "import numpy as np\n",
        "import json"
      ],
      "execution_count": 1,
      "outputs": []
    },
    {
      "cell_type": "markdown",
      "metadata": {
        "id": "RWoWucfdiUIS"
      },
      "source": [
        "# Расчет дерева"
      ]
    },
    {
      "cell_type": "code",
      "metadata": {
        "id": "z1FZBep89wc6"
      },
      "source": [
        "edge_list = {'Заказ такси': ['Заказать', 'Не заказать'],\n",
        "             'Заказать': ['Заказали и дождь', 'Заказали и нет дождя'],\n",
        "             'Не заказать': ['Не заказали и дождь', 'Не заказали и нет дождя'],\n",
        "             'Заказали и дождь': ['ЗДЕ', 'ЗДН'],\n",
        "             'Заказали и нет дождя': ['ЗНЕ', 'ЗНН'],\n",
        "             'ЗДЕ': ['ЗДЕЗ', 'ЗДЕН'],\n",
        "             'ЗДН': ['ЗДНЗ', 'ЗДНН'],\n",
        "             'ЗНЕ': ['ЗНЕЗ', 'ЗНЕН'],\n",
        "             'ЗНН': ['ЗННЗ', 'ЗННН']}\n",
        "vert_props = {'Заказ такси': ('rdec', -1, 1),\n",
        "              'Заказать': ('prob', 0, 1),\n",
        "              'Не заказать': ('term', 1000, 1),\n",
        "              'Заказали и дождь': ('dec', -1, 0.6),\n",
        "              'Заказали и нет дождя': ('dec', -1, 0.4),\n",
        "              'ЗДЕ': ('prob', 0, 1),\n",
        "              'ЗДН': ('prob', 0, 1),\n",
        "              'ЗНЕ': ('prob', 0, 1),\n",
        "              'ЗНН': ('prob', 0, 1),\n",
        "              'ЗДЕЗ': ('term', 2500, 0.1),\n",
        "              'ЗДЕН': ('term', 500, 0.9),\n",
        "              'ЗДНЗ': ('term', 2150, 0.3),\n",
        "              'ЗДНН': ('term', 150, 0.7),\n",
        "              'ЗНЕЗ': ('term', 2500, 0.05),\n",
        "              'ЗНЕН': ('term', 500, 0.95),\n",
        "              'ЗННЗ': ('term', 2150, 0.1),\n",
        "              'ЗННН': ('term', 150, 0.9),\n",
        "              }"
      ],
      "execution_count": null,
      "outputs": []
    },
    {
      "cell_type": "code",
      "metadata": {
        "id": "BtIzmFrYdS9c"
      },
      "source": [
        "edge_list = {'Строить ЖК?': ['Строить', 'Не строить'],\n",
        "             'Строить': ['Рекламная кампания удачная', 'Рекламная кампания не удачная'],\n",
        "             #'Не строить': ['0'],\n",
        "             'Рекламная кампания удачная': ['Не строить с рекл.', 'Большой ЖК', 'Маленький ЖК'],\n",
        "             'Рекламная кампания не удачная': ['Не строить c рекл.'],\n",
        "             'Большой ЖК': ['Спрос снизится для Б', 'Спрос не снизится для Б'],\n",
        "             'Маленький ЖК': ['Спрос снизится для М', 'Спрос не снизится для М']\n",
        "             }\n",
        "vert_props = {'Строить ЖК?': ('rdec', 1, 1),\n",
        "              'Строить': ('prob', 0, 1),\n",
        "              'Не строить': ('term', 0, 1),\n",
        "              'Рекламная кампания удачная': ('dec', 1, 0.25),\n",
        "              'Рекламная кампания не удачная': ('term', -500000, 0.75),\n",
        "              'Большой ЖК': ('prob', 0, 1),\n",
        "              'Маленький ЖК': ('prob', 0, 1),\n",
        "              'Не строить с рекл.': ('term', -500000, 1),\n",
        "              'Спрос снизится для Б': ('term', -115000000, 0.4),\n",
        "              'Спрос не снизится для Б': ('term', 20000000, 0.6),\n",
        "              'Спрос снизится для М': ('term', -10000000, 0.4),\n",
        "              'Спрос не снизится для М': ('term', 65000000, 0.6),\n",
        "              }"
      ],
      "execution_count": 13,
      "outputs": []
    },
    {
      "cell_type": "code",
      "metadata": {
        "id": "SKu8o1KQlwBN"
      },
      "source": [
        "with open('data_tree.json', 'w', encoding='utf-8') as f:\n",
        "    json.dump([edge_list, vert_props], f, ensure_ascii=False, indent=4)\n",
        "  "
      ],
      "execution_count": 22,
      "outputs": []
    },
    {
      "cell_type": "code",
      "metadata": {
        "id": "e67dJAV9h4HG"
      },
      "source": [
        "with open('data_tree.json', 'r', encoding='utf-8') as f:\n",
        "  a = json.load(f)\n",
        "  "
      ],
      "execution_count": 25,
      "outputs": []
    },
    {
      "cell_type": "code",
      "metadata": {
        "id": "ihMEzbEw-BRU"
      },
      "source": [
        "vert_types = ['dec', 'prob', 'term', 'rprob', 'rdec']"
      ],
      "execution_count": 15,
      "outputs": []
    },
    {
      "cell_type": "code",
      "metadata": {
        "id": "n0HCHHwkBvJG"
      },
      "source": [
        "def tree_dfs(v, ancestor):\n",
        "  if vert_props[v][0] == 'term':\n",
        "    try :\n",
        "      rec_stack[ancestor].append(float(vert_props[v][1] * vert_props[v][2]))\n",
        "    except:\n",
        "      rec_stack[ancestor] = [float(vert_props[v][1] * vert_props[v][2])]\n",
        "    return\n",
        "  for suc in edge_list[v]:\n",
        "    tree_dfs(suc, v)\n",
        "\n",
        "  if vert_props[v][0] == 'prob':\n",
        "      try :\n",
        "        rec_stack[ancestor].append(sum(rec_stack[v])* vert_props[v][2])\n",
        "      except:\n",
        "        rec_stack[ancestor] = [sum(rec_stack[v])* vert_props[v][2]]\n",
        "    \n",
        "  if vert_props[v][0] == 'dec':\n",
        "    if vert_props[v][1] == 1:\n",
        "      try :\n",
        "        rec_stack[ancestor].append(max(rec_stack[v])* vert_props[v][2])\n",
        "      except:\n",
        "        rec_stack[ancestor] = [max(rec_stack[v])* vert_props[v][2]]\n",
        "    if vert_props[v][1] == -1:\n",
        "        try :\n",
        "          rec_stack[ancestor].append(min(rec_stack[v])* vert_props[v][2])\n",
        "        except:\n",
        "          rec_stack[ancestor] = [min(rec_stack[v])* vert_props[v][2]]\n",
        "    #print(rec_stack, v)\n",
        "  \n",
        "  if vert_props[v][0] == 'rprob':\n",
        "    print(sum(rec_stack[v]))\n",
        "  if vert_props[v][0] == 'rdec':\n",
        "    if vert_props[v][1] == 1:\n",
        "      print(max(rec_stack[v]))\n",
        "    else:\n",
        "      print(min(rec_stack[v]))"
      ],
      "execution_count": 16,
      "outputs": []
    },
    {
      "cell_type": "code",
      "metadata": {
        "colab": {
          "base_uri": "https://localhost:8080/"
        },
        "id": "JX80mMepEYje",
        "outputId": "1848dc20-7057-49e8-f94b-1c332277c5fc"
      },
      "source": [
        "rec_stack = dict()\n",
        "tree_dfs('Строить ЖК?', 'Строить ЖК?')"
      ],
      "execution_count": 17,
      "outputs": [
        {
          "output_type": "stream",
          "name": "stdout",
          "text": [
            "8375000.0\n"
          ]
        }
      ]
    },
    {
      "cell_type": "code",
      "metadata": {
        "colab": {
          "base_uri": "https://localhost:8080/"
        },
        "id": "lklDO0pAm71l",
        "outputId": "83b899fe-9715-414c-8b01-cfa642bac78b"
      },
      "source": [
        "rec_stack"
      ],
      "execution_count": 33,
      "outputs": [
        {
          "output_type": "execute_result",
          "data": {
            "text/plain": [
              "{'Большой ЖК': [-46000000.0, 12000000.0],\n",
              " 'Маленький ЖК': [-4000000.0, 39000000.0],\n",
              " 'Рекламная кампания удачная': [-500000.0, -34000000.0, 35000000.0],\n",
              " 'Строить': [8750000.0, -375000.0],\n",
              " 'Строить ЖК?': [8375000.0, 0.0]}"
            ]
          },
          "metadata": {},
          "execution_count": 33
        }
      ]
    },
    {
      "cell_type": "code",
      "metadata": {
        "id": "rnmaJYi0kA3e"
      },
      "source": [
        "def get_dec(v):\n",
        "  if vert_props[v][0] not in ['dec', 'rprob', 'rdec']:\n",
        "    print('Error! Choose decision vertex')\n",
        "  else:\n",
        "    if vert_props[v][1] == 1:\n",
        "      print('BEST for '+v+': ' + edge_list[v][np.argmax(rec_stack[v])])\n",
        "      print(max(rec_stack[v]))\n",
        "    else:\n",
        "      print('BEST for '+v+': '+ edge_list[v][np.argmin(rec_stack[v])])\n",
        "      print(min(rec_stack[v]))\n",
        "\n"
      ],
      "execution_count": 18,
      "outputs": []
    },
    {
      "cell_type": "code",
      "metadata": {
        "colab": {
          "base_uri": "https://localhost:8080/"
        },
        "id": "gtPjGYnMkoJ0",
        "outputId": "d59f530e-51d8-4c7d-8beb-3b4e493a536f"
      },
      "source": [
        "get_dec('Строить ЖК?')"
      ],
      "execution_count": 19,
      "outputs": [
        {
          "output_type": "stream",
          "name": "stdout",
          "text": [
            "BEST for Строить ЖК?: Строить\n",
            "8375000.0\n"
          ]
        }
      ]
    },
    {
      "cell_type": "code",
      "metadata": {
        "colab": {
          "base_uri": "https://localhost:8080/"
        },
        "id": "RSUBXNsaiav5",
        "outputId": "9ae49627-3a14-4759-8c73-3faaf5109f26"
      },
      "source": [
        "get_dec('Рекламная кампания удачная')"
      ],
      "execution_count": 27,
      "outputs": [
        {
          "output_type": "stream",
          "name": "stdout",
          "text": [
            "BEST for Рекламная кампания удачная: Маленький ЖК\n",
            "35000000.0\n"
          ]
        }
      ]
    },
    {
      "cell_type": "markdown",
      "metadata": {
        "id": "Jo8xEWA-ioZA"
      },
      "source": [
        "# Отрисовка"
      ]
    },
    {
      "cell_type": "code",
      "metadata": {
        "id": "MhQyuUUcNULr"
      },
      "source": [
        "import graphviz"
      ],
      "execution_count": 28,
      "outputs": []
    },
    {
      "cell_type": "code",
      "metadata": {
        "colab": {
          "base_uri": "https://localhost:8080/",
          "height": 35
        },
        "id": "dBRe8TN5cKT7",
        "outputId": "88db8f50-832d-4178-8d37-a083283e2312"
      },
      "source": [
        "dot = graphviz.Digraph('Tree', comment='The Round Table', engine='sfdp')\n",
        "\n",
        "for k in vert_props.keys():\n",
        "  if vert_props[k][0] == 'dec':\n",
        "    dot.node(k, k, shape='square', color='lightgrey', style='filled')\n",
        "\n",
        "  if vert_props[k][0] == 'term':\n",
        "    dot.node(k, k, shape='egg')\n",
        "\n",
        "  if vert_props[k][0] == 'prob':\n",
        "    dot.node(k, k, shape='triangle', color='lightblue', style='filled')\n",
        "\n",
        "  if vert_props[k][0] == 'rprob':\n",
        "    dot.node(k, k, shape='Mtriangle', color='red', style='filled')\n",
        "\n",
        "  if vert_props[k][0] == 'rdec':\n",
        "    dot.node(k, k, shape='Msquare', color='red', style='filled')\n",
        "\n",
        "for v in edge_list.keys():\n",
        "  for vv in edge_list[v]:\n",
        "    dot.edge(v, vv, constraint='false')\n",
        "dot.render('tree')"
      ],
      "execution_count": 31,
      "outputs": [
        {
          "output_type": "execute_result",
          "data": {
            "application/vnd.google.colaboratory.intrinsic+json": {
              "type": "string"
            },
            "text/plain": [
              "'tree.pdf'"
            ]
          },
          "metadata": {},
          "execution_count": 31
        }
      ]
    },
    {
      "cell_type": "code",
      "metadata": {
        "id": "BPxicnGgj4FK",
        "colab": {
          "base_uri": "https://localhost:8080/",
          "height": 35
        },
        "outputId": "bf3cdc34-8177-4545-ebed-4ba61f7464b8"
      },
      "source": [
        "dot.save('tree_dot', )"
      ],
      "execution_count": 30,
      "outputs": [
        {
          "output_type": "execute_result",
          "data": {
            "application/vnd.google.colaboratory.intrinsic+json": {
              "type": "string"
            },
            "text/plain": [
              "'tree_dot'"
            ]
          },
          "metadata": {},
          "execution_count": 30
        }
      ]
    },
    {
      "cell_type": "code",
      "metadata": {
        "id": "sd0LKrRVi83Q"
      },
      "source": [
        ""
      ],
      "execution_count": null,
      "outputs": []
    }
  ]
}