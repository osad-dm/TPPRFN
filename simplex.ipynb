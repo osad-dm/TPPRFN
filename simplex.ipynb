{
  "nbformat": 4,
  "nbformat_minor": 0,
  "metadata": {
    "colab": {
      "name": "simplex.ipynb",
      "provenance": [],
      "collapsed_sections": [
        "NL3WyLBeSZ67"
      ],
      "toc_visible": true
    },
    "kernelspec": {
      "name": "python3",
      "display_name": "Python 3"
    },
    "language_info": {
      "name": "python"
    }
  },
  "cells": [
    {
      "cell_type": "markdown",
      "metadata": {
        "id": "soQVvJOkST4q"
      },
      "source": [
        "# LEXA"
      ]
    },
    {
      "cell_type": "code",
      "metadata": {
        "id": "2ZffNPZZEh48"
      },
      "source": [
        "import numpy as np\n",
        "from copy import deepcopy\n"
      ],
      "execution_count": null,
      "outputs": []
    },
    {
      "cell_type": "code",
      "metadata": {
        "id": "1iUYA9ZJExHT"
      },
      "source": [
        ""
      ],
      "execution_count": null,
      "outputs": []
    },
    {
      "cell_type": "code",
      "metadata": {
        "id": "HqfxYPBoLyBt"
      },
      "source": [
        "class SimplexTableau:\n",
        "    def __init__(self, obj_coefs, free_coef, optimization_dir='min', A_uneq=None, \\\n",
        "                 b_uneq=None, uneq_types=None, A_eq=None, b_eq=None, v_con=None):\n",
        "\n",
        "      self.obj_coefs = np.array(obj_coefs)\n",
        "      self.free_coef = free_coef\n",
        "      self.optimization_dir = optimization_dir\n",
        "      self.vars_constraints = vars_cotynstraints\n",
        "      self.initial_vars = list(range(len(obj_coefs)))\n",
        "      self.arbitrary_vars_map = dict()\n",
        "      if A_uneq is not None:\n",
        "        self.A_uneq = np.array([A_uneq])\n",
        "        self.b_uneq = np.array(b_uneq)\n",
        "        self.uneq_types = uneq_types\n",
        "      else:\n",
        "        self.A_uneq = None\n",
        "\n",
        "      if A_eq is not None:\n",
        "        self.A_eq = np.array(A_eq)\n",
        "        self.b_eq = np.array(b_eq)\n",
        "      else:\n",
        "        self.A_eq = None\n",
        "\n",
        "    def cannonize_b(self):\n",
        "      mask = self.b < 0\n",
        "      self.b = np.where(self.b >= 0, self.b, -self.b).ravel()\n",
        "      self.A[mask] *= -1\n",
        "      return self\n",
        "\n",
        "    def cannonize_arb_var(self):\n",
        "      k = len(self.vars_constraints)\n",
        "      for i, var_constr in enumerate(self.v_con):\n",
        "          if var_constr == '<=':\n",
        "              self.arbitrary_vars_map[i] = [i]\n",
        "              if self.A_eq is not None:\n",
        "                  self.A_eq[:, i] *= -1\n",
        "              if self.A_uneq is not None:\n",
        "                  self.A_uneq[:, i] *= -1\n",
        "              self.obj_coefs[i] *= -1\n",
        "          elif var_constr == 'n_c':\n",
        "              self.arbitrary_vars_map[i] = [i, k]\n",
        "              if self.A_eq is not None:\n",
        "                  self.A_eq = np.hstack((self.A_eq, -self.A_eq[:, i].reshape(-1, 1)))\n",
        "              if self.A_uneq is not None:\n",
        "                  self.A_uneq = np.hstack((self.A_uneq, -self.A_uneq[:, i].reshape(-1, 1)))\n",
        "              new_obj = np.empty((len(self.obj_coefs)+1,))\n",
        "              new_obj[:len(self.obj_coefs)] = self.obj_coefs\n",
        "              new_obj[-1] = -self.obj_coefs[i]\n",
        "              self.obj_coefs = new_obj\n",
        "              k += 1\n",
        "      return self\n",
        "\n",
        "    def cannonize_uneq(self):\n",
        "      new_coefs = np.diag(np.where(np.array(self.uneq_types) == '<=', 1, -1))\n",
        "      self.num_base_init = len(new_coefs)\n",
        "      self.A_uneq = np.hstack((self.A_uneq, new_coefs))\n",
        "      if self.A_eq is not None:\n",
        "          self.A_eq = np.hstack((self.A_eq, np.zeros(len(self.A_eq), new_coefs.shape[1])))\n",
        "      self.obj_coefs = np.hstack((self.obj_coefs, np.zeros((new_coefs.shape[1],))))\n",
        "      if self.A_eq is not None:\n",
        "          self.A = np.vstack((self.A_uneq, self.A_eq))\n",
        "          self.b = np.vstack((self.b_uneq, self.b_eq))\n",
        "      else:\n",
        "          self.A = self.A_uneq\n",
        "          self.b = self.b_uneq\n",
        "      return self\n",
        "\n",
        "    def canonize(self):\n",
        "      if self.optimization_dir == 'max':\n",
        "          self.obj_coefs *= -1\n",
        "          self.free_coef *= -1\n",
        "      if self.vars_constraints is not None:\n",
        "          self.cannonize_arb_var()\n",
        "\n",
        "      if self.A_uneq is not None:\n",
        "          self.cannonize_uneq()\n",
        "      else:\n",
        "          self.A = self.A_eq\n",
        "          self.b = self.b_eq\n",
        "\n",
        "      if (self.b < 0).any():\n",
        "          self.cannonize_b()\n",
        "      self.var_inds = np.arange(self.A.shape[1])\n",
        "      return self\n",
        "\n",
        "    def artificial_basis(self, i_col, A, b_col, art):\n",
        "      arts_in_basis = np.in1d(i_col, art)\n",
        "      all_zeros = np.all(A == 0, axis=0)\n",
        "      z_mask = np.bitwise_and(arts_in_basis, all_zeros)\n",
        "      if z_mask.any():\n",
        "          A = A[z_mask]\n",
        "          b_col = b_col[z_mask]\n",
        "          i_col = i_col[z_mask]\n",
        "      if np.in1d(i_col, art).any():\n",
        "          for i, row in enumerate(A):\n",
        "              if not np.in1d(i_col, art)[i]:\n",
        "                  continue\n",
        "              else:\n",
        "                  art_pivot_coords = (i, np.arange(len(row))[row!=0][0])\n",
        "      else:\n",
        "          art_pivot_coords = 0\n",
        "      return A, b_col, i_col, art_pivot_coords\n",
        "\n",
        "    def simplex_step(self, i_col, j_row, A, p_row, b_col, Q0, art = None, pivot_elem = None):\n",
        "      pivot_col = np.argmin(p_row)\n",
        "      #2stepb\n",
        "      if p_row[pivot_col] < 0 or pivot_elem is not None: \n",
        "          if np.max(A[:, pivot_col]) < 0 and pivot_elem is None:\n",
        "              return i_col, j_row, A, p_row, b_col, Q0, 0, None\n",
        "          else:\n",
        "              if pivot_elem is None:\n",
        "                  b_a = np.argsort(b_col / A[:, pivot_col])\n",
        "                  for i in b_a:\n",
        "                      if A[i, pivot_col] > 0:\n",
        "                          pivot_row = i\n",
        "                          break\n",
        "                      else:\n",
        "                          return i_col, j_row, A, p_row, b_col, Q0, 0, None\n",
        "              else:\n",
        "                  pivot_row, pivot_col = pivot_elem\n",
        "\n",
        "              pivot_a = A[pivot_row, pivot_col]\n",
        "              new_i_col = deepcopy(i_col)\n",
        "              new_j_row = deepcopy(j_row)\n",
        "              new_i_col[pivot_row] = j_row[pivot_col]\n",
        "              new_j_row[pivot_col] = i_col[pivot_row]\n",
        "              pivot_a_hat = 1 / pivot_a\n",
        "              a_col_pivot_hat = -A[:, pivot_col] * pivot_a_hat\n",
        "              pivot_p_hat = - p_row[pivot_col] * pivot_a_hat\n",
        "              a_row_pivot_hat = A[pivot_row] * pivot_a_hat\n",
        "              pivot_b_hat = b_col[pivot_row] * pivot_a_hat\n",
        "              new_A = A - A[:, pivot_col].reshape(-1, 1).dot(a_row_pivot_hat.reshape(1, -1))\n",
        "              new_A[:, pivot_col] = a_col_pivot_hat\n",
        "              new_A[pivot_row] = a_row_pivot_hat\n",
        "              new_A[pivot_row, pivot_col] = pivot_a_hat\n",
        "              new_p_row = p_row - a_row_pivot_hat * p_row[pivot_col]\n",
        "              new_p_row[pivot_col] = pivot_p_hat\n",
        "              new_b_col = b_col - pivot_b_hat * A[:, pivot_col]\n",
        "              new_b_col[pivot_row] = pivot_b_hat\n",
        "              new_Q0 = Q0 - pivot_b_hat * p_row[pivot_col]\n",
        "\n",
        "              if art is not None:\n",
        "                  mask = ~np.in1d(new_j_row, art)\n",
        "                  new_A = new_A[:, mask]\n",
        "                  new_p_row = new_p_row[mask]\n",
        "                  new_j_row = new_j_row[mask]\n",
        "                  if np.isclose(new_Q0, 0) and not np.in1d(new_i_col, art).any():\n",
        "                      return new_i_col, new_j_row, new_A, new_p_row, new_b_col, new_Q0, 1, None\n",
        "                  elif np.isclose(new_Q0, 0) and np.in1d(new_i_col, art).any():\n",
        "                      new_A, new_b_col, new_i_col, art_pivot_coords = self.artificial_basis(i_col, A, b_col, art)\n",
        "                      return new_i_col, new_j_row, new_A, new_p_row, new_b_col, new_Q0, None, art_pivot_coords\n",
        "              return new_i_col, new_j_row, new_A, new_p_row, new_b_col, new_Q0, None, None\n",
        "      elif p_row[pivot_col] >= 0 and art is not None:\n",
        "          if Q0 < 0:\n",
        "              return i_col, j_row, A, p_row, b_col, Q0, 0, None\n",
        "      else:\n",
        "          return i_col, j_row, A, p_row, b_col, Q0, 1, None\n",
        "\n",
        "    def transform_to_base(self):\n",
        "      \n",
        "      indep_cols = []\n",
        "      base_rows = []\n",
        "\n",
        "      # col with 1?\n",
        "      for i in range(self.A.shape[1]):\n",
        "          if (self.A[:, i] != 0).sum() == 1:\n",
        "              br = np.where(np.array(self.A[:, i]) != 0)[0][0]\n",
        "              if br not in base_rows and self.A[br, i] > 0:\n",
        "                  base_rows.append(br)\n",
        "                  self.b[br] = self.b[br] / self.A[br, i]\n",
        "                  self.A[br] /= self.A[br, i]\n",
        "                  indep_cols.append(i)\n",
        "          if len(indep_cols) == self.A.shape[0]:\n",
        "              for j, i in zip(indep_cols, base_rows):\n",
        "                  self.free_coef += self.obj_coefs[j] * self.b[i]\n",
        "                  self.obj_coefs -= (self.obj_coefs[j] * self.A[i]).astype(float)\n",
        "\n",
        "              return indep_cols, base_rows\n",
        "      else:\n",
        "          print(\"Secondary task is needed\")\n",
        "          return 0, 0\n",
        "\n",
        "    def add_artificial_vars(self):\n",
        "      A_art = np.hstack((self.A, np.eye(self.A.shape[0])))\n",
        "      g_fun = -np.sum(self.A, axis=0)\n",
        "      g0 = -self.b.sum()\n",
        "      return A_art, g_fun, g0\n",
        "\n",
        "    def solve(self, num_iterations=100):\n",
        "\n",
        "      self.canonize()\n",
        "      self.A = self.A.astype(float)\n",
        "      self.b = self.b.astype(float)\n",
        "      i_col, base_rows = self.transform_to_base()\n",
        "\n",
        "      if i_col == 0:\n",
        "          print('Additional task')\n",
        "          A_art, g, g0 = self.add_artificial_vars()\n",
        "          i_col = np.arange(self.A.shape[1], A_art.shape[1])\n",
        "          j_row = np.arange(self.A.shape[1])\n",
        "          A = self.A\n",
        "          p_row = g\n",
        "          b_col = self.b\n",
        "          Q0 = g0\n",
        "          arts = np.arange(self.A.shape[0])+self.A.shape[1]\n",
        "          art_piv_elem = None\n",
        "          for i in range(num_iterations):\n",
        "              res = self.simplex_step(i_col, j_row, A, p_row, b_col, Q0, arts, art_piv_elem)\n",
        "              i_col, j_row, A, p_row, b_col, Q0, out, art_piv_elem = res\n",
        "              if out == 0:\n",
        "                  return \"No solutions\"\n",
        "              elif out == 1:\n",
        "                  b_count = 0\n",
        "                  new_A = np.empty(self.A.shape)\n",
        "                  new_A[:, j_row] = A\n",
        "                  eye = np.eye(self.A.shape[0])\n",
        "                  for col in range(self.A.shape[1]):\n",
        "                      if col in i_col:\n",
        "                          new_A[:, col] = eye[:, np.where(i_col==col)[0][0]]\n",
        "                          b_count+=1\n",
        "                  for i, j in enumerate(i_col):\n",
        "                      self.free_coef += self.obj_coefs[j] * b_col[i]\n",
        "                      self.obj_coefs -= (self.obj_coefs[j] * new_A[i]).astype(float)\n",
        "                  break\n",
        "\n",
        "      else:\n",
        "          j_row = np.array([j for j in range(self.A.shape[1]) if j not in i_col]).ravel()\n",
        "          A = self.A[:, j_row][base_rows]\n",
        "          i_col = np.array(i_col)\n",
        "          b_col = self.b[base_rows]\n",
        "      print('Main task')\n",
        "      p_row = self.obj_coefs[j_row]\n",
        "      Q0 = -self.free_coef\n",
        "      for i in range(num_iterations):\n",
        "          res = self.simplex_step(i_col, j_row, A, p_row, b_col, Q0)\n",
        "          i_col, j_row, A, p_row, b_col, Q0, out, art_piv_elem = res\n",
        "          if res[-2] == 0:\n",
        "              return \"No solution\"\n",
        "              break\n",
        "          elif res[-2] == 1:\n",
        "              solution_dict = dict()\n",
        "              for j in j_row:\n",
        "                  solution_dict[f'x{j}'] = 0\n",
        "              for b, i in enumerate(i_col):\n",
        "                  solution_dict[f'x{i}'] = round(b_col[b], 2)\n",
        "              if self.arbitrary_vars_map:\n",
        "                  for k, v in self.arbitrary_vars_map.items():\n",
        "                      if len(v) == 1:\n",
        "                          solution_dict[f'x{k}'] = -solution_dict[f'x{k}']\n",
        "                      else:\n",
        "                          solution_dict[f'x{v[0]}'] -= round(solution_dict[f'x{v[1]}'],2)\n",
        "              fin_vars = deepcopy(list(solution_dict.keys()))\n",
        "              for k in fin_vars:\n",
        "                  num = int(k[1:])\n",
        "                  if num not in self.initial_vars:\n",
        "                      del solution_dict[f'x{num}']\n",
        "\n",
        "              solution_dict =  dict(sorted(solution_dict.items(), key = lambda x: int(x[0][1:])))\n",
        "              if self.optimization_dir == 'max':\n",
        "                  solution_dict['Q_opt'] = round(Q0, 2)\n",
        "              else:\n",
        "                  solution_dict['Q_opt'] = -round(Q0, 2)\n",
        "              return solution_dict\n",
        "\n",
        "      return \"iter limit\""
      ],
      "execution_count": 71,
      "outputs": []
    },
    {
      "cell_type": "code",
      "metadata": {
        "id": "79ZY34FzbsWR"
      },
      "source": [
        "sym = SimplexTableau(obj_coefs=np.array([-2, -3, -4]),\n",
        "              free_coef=0,\n",
        "              type_of_optimization='min',\n",
        "              A_eq=np.array([[3, 2, 1],\n",
        "                                [2, 5, 3]]),\n",
        "              b_eq=np.array([10, 15]),\n",
        "              vars_constraints=['n_c', '>=', 'n_c'])"
      ],
      "execution_count": 109,
      "outputs": []
    },
    {
      "cell_type": "code",
      "metadata": {
        "colab": {
          "base_uri": "https://localhost:8080/"
        },
        "id": "2taJ1h-fbv_Y",
        "outputId": "2e8ee206-3e5f-4d1b-ab92-6861367e43df"
      },
      "source": [
        "sym.solve()"
      ],
      "execution_count": 110,
      "outputs": [
        {
          "output_type": "stream",
          "name": "stdout",
          "text": [
            "Additional task\n",
            "A: [[ 3.  2.  1. -3. -1.]\n",
            " [ 2.  5.  3. -2. -3.]]\n",
            "i*: [5 6]\n",
            "j*: [0 1 2 3 4]\n",
            "p: [-5. -7. -4.  5.  4.]\n",
            "b: [10. 15.]\n",
            "-Q0: -25.0\n",
            "\n",
            "\n",
            "Main task\n",
            "A: [[-0.09090909 -1.          0.09090909]\n",
            " [ 0.63636364  0.         -0.63636364]]\n",
            "i*: [0 1]\n",
            "j*: [2 3 4]\n",
            "p: [-2.27272727  0.          2.27272727]\n",
            "b: [1.81818182 2.27272727]\n",
            "-Q0: 10.454545454545453\n",
            "\n",
            "\n"
          ]
        },
        {
          "output_type": "execute_result",
          "data": {
            "text/plain": [
              "{'Q': -18.57, 'x0': 2.14, 'x1': 0, 'x2': 3.57}"
            ]
          },
          "metadata": {},
          "execution_count": 110
        }
      ]
    },
    {
      "cell_type": "code",
      "metadata": {
        "colab": {
          "base_uri": "https://localhost:8080/"
        },
        "id": "H1QZY80p0EnS",
        "outputId": "96af77fb-9ddd-436f-dd0b-894620f01274"
      },
      "source": [
        "sym = SimplexTableau(obj_coefs=np.array([2, 1, -1, 3, -1]),\n",
        "                  free_coef=0,\n",
        "                  A_eq=np.array([[3, 0, 2, 0, -1],\n",
        "                                 [1, -1, 1, 0, 0],\n",
        "                                 [1, 0, 1, 1, 0]]),\n",
        "                  b_eq=np.array([12, 5, 6]),)\n",
        "sym.solve()"
      ],
      "execution_count": 108,
      "outputs": [
        {
          "output_type": "stream",
          "name": "stdout",
          "text": [
            "Additional task\n",
            "A: [[ 3.  0.  2.  0. -1.]\n",
            " [ 1. -1.  1.  0.  0.]\n",
            " [ 1.  0.  1.  1.  0.]]\n",
            "i*: [5 6 7]\n",
            "j*: [0 1 2 3 4]\n",
            "p: [-5.  1. -4. -1.  1.]\n",
            "b: [12.  5.  6.]\n",
            "-Q0: -23.0\n",
            "\n",
            "\n",
            "Main task\n",
            "A: [[ 2. -1.]\n",
            " [-3.  1.]\n",
            " [ 1.  0.]]\n",
            "i*: [0 2 3]\n",
            "j*: [1 4]\n",
            "p: [-9.  2.]\n",
            "b: [2. 3. 1.]\n",
            "-Q0: -4.000000000000002\n",
            "\n",
            "\n"
          ]
        },
        {
          "output_type": "stream",
          "name": "stderr",
          "text": [
            "/usr/local/lib/python3.7/dist-packages/ipykernel_launcher.py:136: RuntimeWarning: divide by zero encountered in true_divide\n"
          ]
        },
        {
          "output_type": "execute_result",
          "data": {
            "text/plain": [
              "{'Q': -5.0, 'x0': 0.0, 'x1': 1.0, 'x2': 6.0, 'x3': 0, 'x4': 0}"
            ]
          },
          "metadata": {},
          "execution_count": 108
        }
      ]
    },
    {
      "cell_type": "markdown",
      "metadata": {
        "id": "NL3WyLBeSZ67"
      },
      "source": [
        "# Plot"
      ]
    },
    {
      "cell_type": "code",
      "metadata": {
        "id": "KcO7R8OTIHoB"
      },
      "source": [
        "from scipy.spatial import HalfspaceIntersection, ConvexHull\n",
        "import matplotlib.pyplot as plt\n",
        "from matplotlib.patches import Polygon\n",
        "import numpy as np\n",
        "\n",
        "def render_inequalities(halfspaces, feasible_point, xlim, ylim):\n",
        "    hs = HalfspaceIntersection(np.array(halfspaces), np.array(feasible_point))\n",
        "    fig = plt.figure()\n",
        "    ax = fig.add_subplot('111', aspect='equal')\n",
        "    ax.set_xlim(xlim)\n",
        "    ax.set_ylim(ylim)\n",
        "\n",
        "    x = np.linspace(*xlim, 100)\n",
        "\n",
        "    for h in halfspaces:\n",
        "        if h[1]== 0:\n",
        "            ax.axvline(-h[2]/h[0], color=\"#2c3e50\")\n",
        "        else:\n",
        "            ax.plot(x, (-h[2]-h[0]*x)/h[1], color=\"#2c3e50\")\n",
        "    x, y = zip(*hs.intersections)\n",
        "    points = list(zip(x, y))\n",
        "    convex_hull = ConvexHull(points)\n",
        "    polygon = Polygon([points[v] for v in convex_hull.vertices], color=\"#34495e\")\n",
        "    ax.add_patch(polygon)\n",
        "    ax.plot(x, y, 'o', color=\"#e67e22\")"
      ],
      "execution_count": 73,
      "outputs": []
    },
    {
      "cell_type": "code",
      "metadata": {
        "colab": {
          "base_uri": "https://localhost:8080/"
        },
        "id": "mV7ldPToIK27",
        "outputId": "573c1225-7bcd-4444-cdad-fb39cd1c494d"
      },
      "source": [
        "\n",
        "a = [\n",
        "    [-1, 4, 1, 0],\n",
        "    [2, 1, 0, 1],\n",
        "    [0, 0, 1, 0],\n",
        "    [0, 0, 0, 1]\n",
        "]\n",
        "b = [13, 10, 0, 0]\n",
        "x1, x2, x3, x4 = np.linalg.solve(a, b)\n",
        "print('x1 =', x1)\n",
        "print('x2 =', x2)"
      ],
      "execution_count": 3,
      "outputs": [
        {
          "output_type": "stream",
          "name": "stdout",
          "text": [
            "x1 = 3.0\n",
            "x2 = 4.0\n"
          ]
        }
      ]
    },
    {
      "cell_type": "code",
      "metadata": {
        "colab": {
          "base_uri": "https://localhost:8080/",
          "height": 269
        },
        "id": "Z0EZN8LJIguG",
        "outputId": "99cc8ca0-0b82-418a-ffef-218ef44ea378"
      },
      "source": [
        "halfspaces = [\n",
        "    [-1, 0, 0],    # x₁ ≥ 0\n",
        "    [0, -1, 0],    # x₂ ≥ 0\n",
        "    [-1, 1, -2],   # -x₁ + x₂ ≤ 2\n",
        "    [1, 0, -4],    # x₁ ≤ 4\n",
        "    [0, 1, -4],    # x₂ ≤ 4\n",
        "]\n",
        "feasible_point = np.array([0.5, 0.5])\n",
        "xlim = (-1, 5)\n",
        "render_inequalities(halfspaces, feasible_point, xlim, xlim)\n",
        "plt.show()"
      ],
      "execution_count": 79,
      "outputs": [
        {
          "output_type": "display_data",
          "data": {
            "image/png": "[encoded data removed]",
            "text/plain": [
              "<Figure size 432x288 with 1 Axes>"
            ]
          },
          "metadata": {
            "needs_background": "light"
          }
        }
      ]
    },
    {
      "cell_type": "code",
      "metadata": {
        "id": "mxWqyh8rIytM"
      },
      "source": [
        "c = [1, 1, 0, 0, 0]\n",
        "A = [\n",
        "    [-1, 1, 1, 0, 0],\n",
        "    [ 1, 0, 0, 1, 0],\n",
        "    [ 0, 1, 0, 0, 1]\n",
        "]\n",
        "b = [2, 4, 4]"
      ],
      "execution_count": 5,
      "outputs": []
    },
    {
      "cell_type": "code",
      "metadata": {
        "id": "g7gibxZAI3S-"
      },
      "source": [
        "def to_tableau(c, A, b):\n",
        "    xb = [eq + [x] for eq, x in zip(A, b)]\n",
        "    z = c + [0]\n",
        "    return xb + [z]"
      ],
      "execution_count": 6,
      "outputs": []
    },
    {
      "cell_type": "code",
      "metadata": {
        "id": "hY_ENCJeI4xt"
      },
      "source": [
        "def can_be_improved(tableau):\n",
        "    z = tableau[-1]\n",
        "    return any(x > 0 for x in z[:-1])"
      ],
      "execution_count": 7,
      "outputs": []
    },
    {
      "cell_type": "code",
      "metadata": {
        "id": "AhSoyUqRI7Dm"
      },
      "source": [
        "import math\n",
        "\n",
        "def get_pivot_position(tableau):\n",
        "    z = tableau[-1]\n",
        "    column = next(i for i, x in enumerate(z[:-1]) if x > 0)\n",
        "    \n",
        "    restrictions = []\n",
        "    for eq in tableau[:-1]:\n",
        "        el = eq[column]\n",
        "        restrictions.append(math.inf if el <= 0 else eq[-1] / el)\n",
        "        \n",
        "    if (all([r == math.inf for r in restrictions])):\n",
        "        raise Exception(\"Linear program is unbounded.\")\n",
        "\n",
        "    row = restrictions.index(min(restrictions))\n",
        "    return row, column"
      ],
      "execution_count": 8,
      "outputs": []
    },
    {
      "cell_type": "code",
      "metadata": {
        "id": "58Ccv2B9I9Rr"
      },
      "source": [
        "def pivot_step(tableau, pivot_position):\n",
        "    new_tableau = [[] for eq in tableau]\n",
        "    \n",
        "    i, j = pivot_position\n",
        "    pivot_value = tableau[i][j]\n",
        "    new_tableau[i] = np.array(tableau[i]) / pivot_value\n",
        "    \n",
        "    for eq_i, eq in enumerate(tableau):\n",
        "        if eq_i != i:\n",
        "            multiplier = np.array(new_tableau[i]) * tableau[eq_i][j]\n",
        "            new_tableau[eq_i] = np.array(tableau[eq_i]) - multiplier\n",
        "   \n",
        "    return new_tableau"
      ],
      "execution_count": 9,
      "outputs": []
    },
    {
      "cell_type": "code",
      "metadata": {
        "id": "bLTITl_YI_wy"
      },
      "source": [
        "def is_basic(column):\n",
        "    return sum(column) == 1 and len([c for c in column if c == 0]) == len(column) - 1\n",
        "\n",
        "def get_solution(tableau):\n",
        "    columns = np.array(tableau).T\n",
        "    solutions = []\n",
        "    for column in columns[:-1]:\n",
        "        solution = 0\n",
        "        if is_basic(column):\n",
        "            one_index = column.tolist().index(1)\n",
        "            solution = columns[-1][one_index]\n",
        "        solutions.append(solution)\n",
        "        \n",
        "    return solutions"
      ],
      "execution_count": 10,
      "outputs": []
    },
    {
      "cell_type": "code",
      "metadata": {
        "id": "YKxxEceQJCqF"
      },
      "source": [
        "def simplex(c, A, b):\n",
        "    tableau = to_tableau(c, A, b)\n",
        "\n",
        "    while can_be_improved(tableau):\n",
        "        pivot_position = get_pivot_position(tableau)\n",
        "        tableau = pivot_step(tableau, pivot_position)\n",
        "\n",
        "    return get_solution(tableau)"
      ],
      "execution_count": 11,
      "outputs": []
    },
    {
      "cell_type": "code",
      "metadata": {
        "colab": {
          "base_uri": "https://localhost:8080/"
        },
        "id": "uuibF63uJGAO",
        "outputId": "cb125a88-0664-4eee-bc9b-6eebf4c40321"
      },
      "source": [
        "solution = simplex(c, A, b)\n",
        "print('solution: ', solution)"
      ],
      "execution_count": 12,
      "outputs": [
        {
          "output_type": "stream",
          "name": "stdout",
          "text": [
            "solution:  [4.0, 4.0, 2.0, 0, 0]\n"
          ]
        }
      ]
    },
    {
      "cell_type": "code",
      "metadata": {
        "id": "TgXHhsDtJIBg"
      },
      "source": [
        "def get_objective_function_value(tableau):\n",
        "    return -tableau[-1][-1]"
      ],
      "execution_count": 13,
      "outputs": []
    },
    {
      "cell_type": "code",
      "metadata": {
        "id": "zcqAEqLOJKKU"
      },
      "source": [
        "def simplex_with_visualization(c, A, b, halfspaces, feasible_point):\n",
        "    tableau = to_tableau(c, A, b)\n",
        "\n",
        "    zs = [get_objective_function_value(tableau)]\n",
        "    solutions = [get_solution(tableau)]\n",
        "    while can_be_improved(tableau):\n",
        "        pivot_position = get_pivot_position(tableau)\n",
        "        tableau = pivot_step(tableau, pivot_position)\n",
        "        solutions.append(get_solution(tableau))\n",
        "        zs.append(get_objective_function_value(tableau))\n",
        "    \n",
        "    points = [v[:2] for v in solutions]\n",
        "    xlim = (-1, max([p[0] for p in points]) + 1)\n",
        "    ylim = (-1, max([p[1] for p in points]) + 1)\n",
        "    render_inequalities(halfspaces, feasible_point, xlim, ylim)\n",
        "\n",
        "    for start, end in zip(points[:-1], points[1:]):\n",
        "        dx = end[0] - start[0]\n",
        "        dy = end[1] - start[1]\n",
        "        if dx > 0 and dy > 0:\n",
        "            plt.arrow(\n",
        "                start[0],\n",
        "                start[1],\n",
        "                dx,\n",
        "                dy,\n",
        "                width=0.1,\n",
        "                length_includes_head=True,\n",
        "                color='#1abc9c'\n",
        "            )\n",
        "    plt.show()\n",
        "    \n",
        "    steps = range(len(zs))\n",
        "    plt.plot(steps, zs, color=\"#2c3e50\")\n",
        "    plt.xticks(steps)\n",
        "    plt.xlabel('iterations')\n",
        "    plt.ylabel('objective function value')\n",
        "    \n",
        "    return get_solution(tableau)"
      ],
      "execution_count": 14,
      "outputs": []
    },
    {
      "cell_type": "code",
      "metadata": {
        "colab": {
          "base_uri": "https://localhost:8080/",
          "height": 548
        },
        "id": "NaK8XtgVJN3D",
        "outputId": "a6a915be-ff41-419b-f9fb-997095f2090c"
      },
      "source": [
        "simplex_with_visualization(c, A, b, halfspaces, feasible_point)"
      ],
      "execution_count": 15,
      "outputs": [
        {
          "output_type": "display_data",
          "data": {
            "image/png": "[encoded data removed]",
            "text/plain": [
              "<Figure size 432x288 with 1 Axes>"
            ]
          },
          "metadata": {
            "needs_background": "light"
          }
        },
        {
          "output_type": "execute_result",
          "data": {
            "text/plain": [
              "[4.0, 4.0, 2.0, 0, 0]"
            ]
          },
          "metadata": {},
          "execution_count": 15
        },
        {
          "output_type": "display_data",
          "data": {
            "image/png": "[encoded data removed]",
            "text/plain": [
              "<Figure size 432x288 with 1 Axes>"
            ]
          },
          "metadata": {
            "needs_background": "light"
          }
        }
      ]
    }
  ]
}